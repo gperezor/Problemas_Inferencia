{
 "cells": [
  {
   "cell_type": "code",
   "execution_count": 12,
   "metadata": {
    "collapsed": false
   },
   "outputs": [],
   "source": [
    "import numpy as np\n",
    "import pandas as pd\n",
    "import scipy.stats as ss\n",
    "import matplotlib.pyplot as plt"
   ]
  },
  {
   "cell_type": "code",
   "execution_count": 13,
   "metadata": {
    "collapsed": false
   },
   "outputs": [],
   "source": [
    "df = pd.read_excel('VEF.xls')\n"
   ]
  },
  {
   "cell_type": "code",
   "execution_count": 14,
   "metadata": {
    "collapsed": true
   },
   "outputs": [],
   "source": [
    "df2 = (df[['Edad','VEF', 'Sexo', 'Fumador']])\n",
    "\n",
    "#lista del fev de personas con sexo 0, fumador 0 y edad en el rango\n",
    "gender= (df2['Sexo'])\n",
    "smoker= (df2['Fumador'])\n",
    "fev= (df2['VEF'])\n",
    "age= (df2['Edad'])\n",
    "lista = []\n",
    "for i in range(len(df2)):\n",
    "    g = gender[i]\n",
    "    s = smoker[i]\n",
    "    f = fev[i]\n",
    "    a = age[i]\n",
    "    if g == int(0) and s == int(0):\n",
    "        if a>=10 and a<=14:\n",
    "            lista.append(f)\n",
    "#print(lista)\n",
    "\n",
    "        "
   ]
  },
  {
   "cell_type": "code",
   "execution_count": 36,
   "metadata": {
    "collapsed": false
   },
   "outputs": [
    {
     "data": {
      "text/html": [
       "<div>\n",
       "<table border=\"1\" class=\"dataframe\">\n",
       "  <thead>\n",
       "    <tr style=\"text-align: right;\">\n",
       "      <th></th>\n",
       "      <th>Sexo</th>\n",
       "      <th>Fumador</th>\n",
       "      <th>VEF</th>\n",
       "    </tr>\n",
       "  </thead>\n",
       "  <tbody>\n",
       "    <tr>\n",
       "      <th>309</th>\n",
       "      <td>1</td>\n",
       "      <td>0</td>\n",
       "      <td>2.884</td>\n",
       "    </tr>\n",
       "    <tr>\n",
       "      <th>311</th>\n",
       "      <td>1</td>\n",
       "      <td>0</td>\n",
       "      <td>3.381</td>\n",
       "    </tr>\n",
       "    <tr>\n",
       "      <th>313</th>\n",
       "      <td>1</td>\n",
       "      <td>0</td>\n",
       "      <td>3.470</td>\n",
       "    </tr>\n",
       "    <tr>\n",
       "      <th>316</th>\n",
       "      <td>1</td>\n",
       "      <td>0</td>\n",
       "      <td>2.524</td>\n",
       "    </tr>\n",
       "    <tr>\n",
       "      <th>318</th>\n",
       "      <td>1</td>\n",
       "      <td>0</td>\n",
       "      <td>3.741</td>\n",
       "    </tr>\n",
       "    <tr>\n",
       "      <th>319</th>\n",
       "      <td>1</td>\n",
       "      <td>0</td>\n",
       "      <td>4.336</td>\n",
       "    </tr>\n",
       "    <tr>\n",
       "      <th>320</th>\n",
       "      <td>1</td>\n",
       "      <td>0</td>\n",
       "      <td>4.842</td>\n",
       "    </tr>\n",
       "    <tr>\n",
       "      <th>321</th>\n",
       "      <td>1</td>\n",
       "      <td>0</td>\n",
       "      <td>4.550</td>\n",
       "    </tr>\n",
       "    <tr>\n",
       "      <th>330</th>\n",
       "      <td>1</td>\n",
       "      <td>0</td>\n",
       "      <td>3.549</td>\n",
       "    </tr>\n",
       "    <tr>\n",
       "      <th>332</th>\n",
       "      <td>1</td>\n",
       "      <td>0</td>\n",
       "      <td>3.222</td>\n",
       "    </tr>\n",
       "    <tr>\n",
       "      <th>342</th>\n",
       "      <td>1</td>\n",
       "      <td>0</td>\n",
       "      <td>2.957</td>\n",
       "    </tr>\n",
       "    <tr>\n",
       "      <th>343</th>\n",
       "      <td>1</td>\n",
       "      <td>0</td>\n",
       "      <td>4.007</td>\n",
       "    </tr>\n",
       "    <tr>\n",
       "      <th>348</th>\n",
       "      <td>1</td>\n",
       "      <td>0</td>\n",
       "      <td>4.305</td>\n",
       "    </tr>\n",
       "    <tr>\n",
       "      <th>349</th>\n",
       "      <td>1</td>\n",
       "      <td>0</td>\n",
       "      <td>3.906</td>\n",
       "    </tr>\n",
       "    <tr>\n",
       "      <th>350</th>\n",
       "      <td>1</td>\n",
       "      <td>0</td>\n",
       "      <td>3.583</td>\n",
       "    </tr>\n",
       "    <tr>\n",
       "      <th>352</th>\n",
       "      <td>1</td>\n",
       "      <td>0</td>\n",
       "      <td>3.436</td>\n",
       "    </tr>\n",
       "    <tr>\n",
       "      <th>353</th>\n",
       "      <td>1</td>\n",
       "      <td>0</td>\n",
       "      <td>3.058</td>\n",
       "    </tr>\n",
       "    <tr>\n",
       "      <th>360</th>\n",
       "      <td>1</td>\n",
       "      <td>0</td>\n",
       "      <td>4.683</td>\n",
       "    </tr>\n",
       "    <tr>\n",
       "      <th>362</th>\n",
       "      <td>1</td>\n",
       "      <td>0</td>\n",
       "      <td>3.108</td>\n",
       "    </tr>\n",
       "    <tr>\n",
       "      <th>363</th>\n",
       "      <td>1</td>\n",
       "      <td>0</td>\n",
       "      <td>3.994</td>\n",
       "    </tr>\n",
       "    <tr>\n",
       "      <th>364</th>\n",
       "      <td>1</td>\n",
       "      <td>0</td>\n",
       "      <td>4.393</td>\n",
       "    </tr>\n",
       "    <tr>\n",
       "      <th>367</th>\n",
       "      <td>1</td>\n",
       "      <td>0</td>\n",
       "      <td>3.193</td>\n",
       "    </tr>\n",
       "    <tr>\n",
       "      <th>372</th>\n",
       "      <td>1</td>\n",
       "      <td>0</td>\n",
       "      <td>3.515</td>\n",
       "    </tr>\n",
       "    <tr>\n",
       "      <th>375</th>\n",
       "      <td>1</td>\n",
       "      <td>0</td>\n",
       "      <td>2.463</td>\n",
       "    </tr>\n",
       "    <tr>\n",
       "      <th>378</th>\n",
       "      <td>1</td>\n",
       "      <td>0</td>\n",
       "      <td>3.111</td>\n",
       "    </tr>\n",
       "    <tr>\n",
       "      <th>384</th>\n",
       "      <td>1</td>\n",
       "      <td>0</td>\n",
       "      <td>3.977</td>\n",
       "    </tr>\n",
       "    <tr>\n",
       "      <th>389</th>\n",
       "      <td>1</td>\n",
       "      <td>0</td>\n",
       "      <td>3.887</td>\n",
       "    </tr>\n",
       "    <tr>\n",
       "      <th>392</th>\n",
       "      <td>1</td>\n",
       "      <td>0</td>\n",
       "      <td>3.587</td>\n",
       "    </tr>\n",
       "    <tr>\n",
       "      <th>393</th>\n",
       "      <td>1</td>\n",
       "      <td>0</td>\n",
       "      <td>3.845</td>\n",
       "    </tr>\n",
       "    <tr>\n",
       "      <th>394</th>\n",
       "      <td>1</td>\n",
       "      <td>0</td>\n",
       "      <td>2.971</td>\n",
       "    </tr>\n",
       "    <tr>\n",
       "      <th>...</th>\n",
       "      <td>...</td>\n",
       "      <td>...</td>\n",
       "      <td>...</td>\n",
       "    </tr>\n",
       "    <tr>\n",
       "      <th>516</th>\n",
       "      <td>1</td>\n",
       "      <td>0</td>\n",
       "      <td>5.083</td>\n",
       "    </tr>\n",
       "    <tr>\n",
       "      <th>523</th>\n",
       "      <td>1</td>\n",
       "      <td>0</td>\n",
       "      <td>3.231</td>\n",
       "    </tr>\n",
       "    <tr>\n",
       "      <th>524</th>\n",
       "      <td>1</td>\n",
       "      <td>0</td>\n",
       "      <td>3.078</td>\n",
       "    </tr>\n",
       "    <tr>\n",
       "      <th>525</th>\n",
       "      <td>1</td>\n",
       "      <td>0</td>\n",
       "      <td>3.369</td>\n",
       "    </tr>\n",
       "    <tr>\n",
       "      <th>526</th>\n",
       "      <td>1</td>\n",
       "      <td>0</td>\n",
       "      <td>3.529</td>\n",
       "    </tr>\n",
       "    <tr>\n",
       "      <th>536</th>\n",
       "      <td>1</td>\n",
       "      <td>0</td>\n",
       "      <td>3.320</td>\n",
       "    </tr>\n",
       "    <tr>\n",
       "      <th>537</th>\n",
       "      <td>1</td>\n",
       "      <td>0</td>\n",
       "      <td>2.123</td>\n",
       "    </tr>\n",
       "    <tr>\n",
       "      <th>538</th>\n",
       "      <td>1</td>\n",
       "      <td>0</td>\n",
       "      <td>3.780</td>\n",
       "    </tr>\n",
       "    <tr>\n",
       "      <th>539</th>\n",
       "      <td>1</td>\n",
       "      <td>0</td>\n",
       "      <td>3.847</td>\n",
       "    </tr>\n",
       "    <tr>\n",
       "      <th>541</th>\n",
       "      <td>1</td>\n",
       "      <td>0</td>\n",
       "      <td>3.924</td>\n",
       "    </tr>\n",
       "    <tr>\n",
       "      <th>543</th>\n",
       "      <td>1</td>\n",
       "      <td>0</td>\n",
       "      <td>2.752</td>\n",
       "    </tr>\n",
       "    <tr>\n",
       "      <th>549</th>\n",
       "      <td>1</td>\n",
       "      <td>0</td>\n",
       "      <td>4.271</td>\n",
       "    </tr>\n",
       "    <tr>\n",
       "      <th>550</th>\n",
       "      <td>1</td>\n",
       "      <td>0</td>\n",
       "      <td>3.530</td>\n",
       "    </tr>\n",
       "    <tr>\n",
       "      <th>551</th>\n",
       "      <td>1</td>\n",
       "      <td>0</td>\n",
       "      <td>2.928</td>\n",
       "    </tr>\n",
       "    <tr>\n",
       "      <th>553</th>\n",
       "      <td>1</td>\n",
       "      <td>0</td>\n",
       "      <td>2.332</td>\n",
       "    </tr>\n",
       "    <tr>\n",
       "      <th>557</th>\n",
       "      <td>1</td>\n",
       "      <td>0</td>\n",
       "      <td>2.894</td>\n",
       "    </tr>\n",
       "    <tr>\n",
       "      <th>562</th>\n",
       "      <td>1</td>\n",
       "      <td>0</td>\n",
       "      <td>4.831</td>\n",
       "    </tr>\n",
       "    <tr>\n",
       "      <th>563</th>\n",
       "      <td>1</td>\n",
       "      <td>0</td>\n",
       "      <td>2.812</td>\n",
       "    </tr>\n",
       "    <tr>\n",
       "      <th>567</th>\n",
       "      <td>1</td>\n",
       "      <td>0</td>\n",
       "      <td>4.232</td>\n",
       "    </tr>\n",
       "    <tr>\n",
       "      <th>571</th>\n",
       "      <td>1</td>\n",
       "      <td>0</td>\n",
       "      <td>2.531</td>\n",
       "    </tr>\n",
       "    <tr>\n",
       "      <th>572</th>\n",
       "      <td>1</td>\n",
       "      <td>0</td>\n",
       "      <td>2.822</td>\n",
       "    </tr>\n",
       "    <tr>\n",
       "      <th>574</th>\n",
       "      <td>1</td>\n",
       "      <td>0</td>\n",
       "      <td>2.935</td>\n",
       "    </tr>\n",
       "    <tr>\n",
       "      <th>576</th>\n",
       "      <td>1</td>\n",
       "      <td>0</td>\n",
       "      <td>2.387</td>\n",
       "    </tr>\n",
       "    <tr>\n",
       "      <th>577</th>\n",
       "      <td>1</td>\n",
       "      <td>0</td>\n",
       "      <td>2.499</td>\n",
       "    </tr>\n",
       "    <tr>\n",
       "      <th>578</th>\n",
       "      <td>1</td>\n",
       "      <td>0</td>\n",
       "      <td>4.130</td>\n",
       "    </tr>\n",
       "    <tr>\n",
       "      <th>583</th>\n",
       "      <td>1</td>\n",
       "      <td>0</td>\n",
       "      <td>3.280</td>\n",
       "    </tr>\n",
       "    <tr>\n",
       "      <th>584</th>\n",
       "      <td>1</td>\n",
       "      <td>0</td>\n",
       "      <td>2.659</td>\n",
       "    </tr>\n",
       "    <tr>\n",
       "      <th>587</th>\n",
       "      <td>1</td>\n",
       "      <td>0</td>\n",
       "      <td>4.203</td>\n",
       "    </tr>\n",
       "    <tr>\n",
       "      <th>592</th>\n",
       "      <td>1</td>\n",
       "      <td>0</td>\n",
       "      <td>3.806</td>\n",
       "    </tr>\n",
       "    <tr>\n",
       "      <th>604</th>\n",
       "      <td>1</td>\n",
       "      <td>0</td>\n",
       "      <td>2.785</td>\n",
       "    </tr>\n",
       "  </tbody>\n",
       "</table>\n",
       "<p>95 rows × 3 columns</p>\n",
       "</div>"
      ],
      "text/plain": [
       "     Sexo  Fumador    VEF\n",
       "309     1        0  2.884\n",
       "311     1        0  3.381\n",
       "313     1        0  3.470\n",
       "316     1        0  2.524\n",
       "318     1        0  3.741\n",
       "319     1        0  4.336\n",
       "320     1        0  4.842\n",
       "321     1        0  4.550\n",
       "330     1        0  3.549\n",
       "332     1        0  3.222\n",
       "342     1        0  2.957\n",
       "343     1        0  4.007\n",
       "348     1        0  4.305\n",
       "349     1        0  3.906\n",
       "350     1        0  3.583\n",
       "352     1        0  3.436\n",
       "353     1        0  3.058\n",
       "360     1        0  4.683\n",
       "362     1        0  3.108\n",
       "363     1        0  3.994\n",
       "364     1        0  4.393\n",
       "367     1        0  3.193\n",
       "372     1        0  3.515\n",
       "375     1        0  2.463\n",
       "378     1        0  3.111\n",
       "384     1        0  3.977\n",
       "389     1        0  3.887\n",
       "392     1        0  3.587\n",
       "393     1        0  3.845\n",
       "394     1        0  2.971\n",
       "..    ...      ...    ...\n",
       "516     1        0  5.083\n",
       "523     1        0  3.231\n",
       "524     1        0  3.078\n",
       "525     1        0  3.369\n",
       "526     1        0  3.529\n",
       "536     1        0  3.320\n",
       "537     1        0  2.123\n",
       "538     1        0  3.780\n",
       "539     1        0  3.847\n",
       "541     1        0  3.924\n",
       "543     1        0  2.752\n",
       "549     1        0  4.271\n",
       "550     1        0  3.530\n",
       "551     1        0  2.928\n",
       "553     1        0  2.332\n",
       "557     1        0  2.894\n",
       "562     1        0  4.831\n",
       "563     1        0  2.812\n",
       "567     1        0  4.232\n",
       "571     1        0  2.531\n",
       "572     1        0  2.822\n",
       "574     1        0  2.935\n",
       "576     1        0  2.387\n",
       "577     1        0  2.499\n",
       "578     1        0  4.130\n",
       "583     1        0  3.280\n",
       "584     1        0  2.659\n",
       "587     1        0  4.203\n",
       "592     1        0  3.806\n",
       "604     1        0  2.785\n",
       "\n",
       "[95 rows x 3 columns]"
      ]
     },
     "execution_count": 36,
     "metadata": {},
     "output_type": "execute_result"
    }
   ],
   "source": [
    "# fumador == 1   no fumador == 0    chico == 1    chica == 0 \n",
    "\n",
    "def get_VEF1(df2,sexo,fumador):\n",
    "    df = df2[df2['Edad'] <= 14][['Sexo','Fumador','VEF','Edad']]\n",
    "    df1 = df[df['Edad'] > 10][['Sexo','Fumador','VEF','Edad']]\n",
    "    \n",
    "    fumadores = df1[df1['Fumador']==fumador][['Sexo','Fumador','VEF']]   \n",
    "    fumadores_sexo=fumadores[fumadores['Sexo']==sexo][['Sexo',\"Fumador\", \"VEF\"]]  \n",
    "    \n",
    "    return (fumadores_sexo)\n",
    "\n",
    "get_VEF1(df2,1,0)"
   ]
  },
  {
   "cell_type": "code",
   "execution_count": 8,
   "metadata": {
    "collapsed": false
   },
   "outputs": [
    {
     "name": "stdout",
     "output_type": "stream",
     "text": [
      "2.83722807018\n"
     ]
    }
   ],
   "source": [
    "media_lista = np.mean(lista)\n",
    "print(media_lista)"
   ]
  },
  {
   "cell_type": "code",
   "execution_count": 9,
   "metadata": {
    "collapsed": false
   },
   "outputs": [],
   "source": [
    "def get_VEF(df2, sexo, fumador):\n",
    "    gender= (df2['Sexo'])\n",
    "    smoker= (df2['Fumador'])\n",
    "    fev= (df2['VEF'])\n",
    "    age= (df2['Edad'])\n",
    "    lista = []\n",
    "    for i in range(len(df2)):\n",
    "        g = gender[i]\n",
    "        s = smoker[i]\n",
    "        f = fev[i]\n",
    "        a = age[i]\n",
    "        if g == int(sexo) and s == int(fumador):\n",
    "            if a>=10 and a<=14:\n",
    "                lista.append(f)\n",
    "    return (lista)\n",
    "\n",
    "# fumador == 1   no fumador == 0    chico == 1    chica == 0 \n",
    "\n",
    "vef_chicos_fumadores= (get_VEF(df2, 1, 1))\n",
    "vef_chicos_nofumadores= (get_VEF(df2, 1, 0))\n",
    "vef_chicas_fumadoras= (get_VEF(df2, 0, 1))\n",
    "vef_chicas_nofumadoras= (get_VEF(df2, 0, 0))\n",
    "\n",
    "\n",
    "\n",
    "#print(vef_chicos_fumadores)\n",
    "#print(vef_chicos_nofumadores)"
   ]
  },
  {
   "cell_type": "code",
   "execution_count": 19,
   "metadata": {
    "collapsed": false
   },
   "outputs": [
    {
     "name": "stdout",
     "output_type": "stream",
     "text": [
      "3.67578571429\n"
     ]
    },
    {
     "data": {
      "image/png": "[encoded data removed]",
      "text/plain": [
       "<Figure size 432x288 with 1 Axes>"
      ]
     },
     "metadata": {},
     "output_type": "display_data"
    }
   ],
   "source": [
    "mean_chicos_fumadores= np.mean(vef_chicos_fumadores)\n",
    "print (mean_chicos_fumadores)\n",
    "\n",
    "plt.hist(vef_chicos_fumadores)\n",
    "plt.show()"
   ]
  },
  {
   "cell_type": "code",
   "execution_count": 20,
   "metadata": {
    "collapsed": false
   },
   "outputs": [
    {
     "name": "stdout",
     "output_type": "stream",
     "text": [
      "3.24809929078\n"
     ]
    },
    {
     "data": {
      "image/png": "[encoded data removed]",
      "text/plain": [
       "<Figure size 432x288 with 1 Axes>"
      ]
     },
     "metadata": {},
     "output_type": "display_data"
    }
   ],
   "source": [
    "mean_chicos_nofumadores= np.mean(vef_chicos_nofumadores)\n",
    "print (mean_chicos_nofumadores)\n",
    "\n",
    "plt.hist(vef_chicos_nofumadores)\n",
    "plt.show()"
   ]
  },
  {
   "cell_type": "code",
   "execution_count": 21,
   "metadata": {
    "collapsed": false
   },
   "outputs": [
    {
     "name": "stdout",
     "output_type": "stream",
     "text": [
      "3.02322222222\n"
     ]
    },
    {
     "data": {
      "image/png": "[encoded data removed]",
      "text/plain": [
       "<Figure size 432x288 with 1 Axes>"
      ]
     },
     "metadata": {},
     "output_type": "display_data"
    }
   ],
   "source": [
    "mean_chicas_fumadoras= np.mean(vef_chicas_fumadoras)\n",
    "print(mean_chicas_fumadoras)\n",
    "\n",
    "plt.hist(vef_chicas_fumadoras)\n",
    "plt.show()"
   ]
  },
  {
   "cell_type": "code",
   "execution_count": 22,
   "metadata": {
    "collapsed": false
   },
   "outputs": [
    {
     "name": "stdout",
     "output_type": "stream",
     "text": [
      "2.83722807018\n"
     ]
    },
    {
     "data": {
      "image/png": "[encoded data removed]",
      "text/plain": [
       "<Figure size 432x288 with 1 Axes>"
      ]
     },
     "metadata": {},
     "output_type": "display_data"
    }
   ],
   "source": [
    "mean_chicas_nofumadoras= np.mean(vef_chicas_nofumadoras)\n",
    "print(mean_chicas_nofumadoras)\n",
    "\n",
    "\n",
    "plt.hist(vef_chicas_nofumadoras)\n",
    "plt.show()"
   ]
  },
  {
   "cell_type": "raw",
   "metadata": {},
   "source": [
    "Contraste de hipotesis medias independientes\n",
    "\n",
    "Chicas\n",
    " H_0: media fumadores = media no fumadores\n",
    " H_1: media fumadores != media no fumadores\n"
   ]
  },
  {
   "cell_type": "code",
   "execution_count": 23,
   "metadata": {
    "collapsed": true
   },
   "outputs": [],
   "source": [
    "vef_chicas_fumadoras= (get_VEF(df2, 0, 1)) #1 vef_chicas_fumadoras\n",
    "vef_chicas_nofumadoras= (get_VEF(df2, 0, 0)) #2\n",
    "\n",
    "n_1 = len(vef_chicas_fumadoras)\n",
    "n_2 = len(vef_chicas_nofumadoras)\n",
    "\n",
    "s_1 = ss.sem(vef_chicas_fumadoras)*np.sqrt(n_1)\n",
    "s_2 = ss.sem(vef_chicas_nofumadoras)*np.sqrt(n_2)\n"
   ]
  },
  {
   "cell_type": "code",
   "execution_count": 24,
   "metadata": {
    "collapsed": false
   },
   "outputs": [
    {
     "name": "stdout",
     "output_type": "stream",
     "text": [
      "114\n"
     ]
    }
   ],
   "source": [
    "print(n_2)"
   ]
  },
  {
   "cell_type": "code",
   "execution_count": 25,
   "metadata": {
    "collapsed": false
   },
   "outputs": [],
   "source": [
    "s = np.sqrt(((n_1-1)*s_1 + (n_2-1)*s_2)/n_1+n_2-2)"
   ]
  },
  {
   "cell_type": "code",
   "execution_count": 26,
   "metadata": {
    "collapsed": false
   },
   "outputs": [],
   "source": [
    "x1_barra = np.mean(vef_chicas_fumadoras)\n",
    "x2_barra = np.mean(vef_chicas_nofumadoras)\n",
    "\n",
    "t = (x1_barra - x2_barra)/(s*np.sqrt(1/n_1+1/n_2))"
   ]
  },
  {
   "cell_type": "code",
   "execution_count": 27,
   "metadata": {
    "collapsed": false
   },
   "outputs": [
    {
     "name": "stdout",
     "output_type": "stream",
     "text": [
      "0.0813229324201\n"
     ]
    }
   ],
   "source": [
    "print(t)"
   ]
  },
  {
   "cell_type": "code",
   "execution_count": 28,
   "metadata": {
    "collapsed": false
   },
   "outputs": [
    {
     "name": "stdout",
     "output_type": "stream",
     "text": [
      "Aceptamos H_0\n"
     ]
    }
   ],
   "source": [
    "alpha = 0.05\n",
    "if t > ss.t.ppf(1-alpha/2, n_1+n_2 - 2) or t < - ss.t.ppf(1-alpha/2, n_1+n_2 -2):\n",
    "    print(\"Rechazamos H_0\")\n",
    "else:\n",
    "    print(\"Aceptamos H_0\")"
   ]
  },
  {
   "cell_type": "code",
   "execution_count": null,
   "metadata": {
    "collapsed": true
   },
   "outputs": [],
   "source": []
  },
  {
   "cell_type": "code",
   "execution_count": null,
   "metadata": {
    "collapsed": true
   },
   "outputs": [],
   "source": []
  },
  {
   "cell_type": "code",
   "execution_count": null,
   "metadata": {
    "collapsed": true
   },
   "outputs": [],
   "source": []
  }
 ],
 "metadata": {
  "kernelspec": {
   "display_name": "Python 3",
   "language": "python",
   "name": "python3"
  },
  "language_info": {
   "codemirror_mode": {
    "name": "ipython",
    "version": 3
   },
   "file_extension": ".py",
   "mimetype": "text/x-python",
   "name": "python",
   "nbconvert_exporter": "python",
   "pygments_lexer": "ipython3",
   "version": "3.6.0"
  }
 },
 "nbformat": 4,
 "nbformat_minor": 2
}
