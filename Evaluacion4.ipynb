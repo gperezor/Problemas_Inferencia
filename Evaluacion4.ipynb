{
 "cells": [
  {
   "cell_type": "markdown",
   "metadata": {},
   "source": [
    "# EJERCICIO 4"
   ]
  },
  {
   "cell_type": "markdown",
   "metadata": {},
   "source": [
    "Para los datos del problema 1, comparar los niveles medios de VEF entre fumadores y no fumadores de chicos entre 10 y 14 años y entre chicas de 10 y 14 años."
   ]
  },
  {
   "cell_type": "code",
   "execution_count": 100,
   "metadata": {
    "collapsed": false
   },
   "outputs": [],
   "source": [
    "import numpy as np\n",
    "import pandas as pd\n",
    "import scipy.stats as ss\n",
    "import matplotlib.pyplot as plt"
   ]
  },
  {
   "cell_type": "code",
   "execution_count": 101,
   "metadata": {
    "collapsed": false
   },
   "outputs": [],
   "source": [
    "df = pd.read_excel('VEF.xls')\n"
   ]
  },
  {
   "cell_type": "code",
   "execution_count": 102,
   "metadata": {
    "collapsed": false
   },
   "outputs": [],
   "source": [
    "df2 = (df[['Edad','VEF', 'Sexo', 'Fumador']])"
   ]
  },
  {
   "cell_type": "code",
   "execution_count": 103,
   "metadata": {
    "collapsed": false
   },
   "outputs": [],
   "source": [
    "# fumador == 1   no fumador == 0    chico == 1    chica == 0 \n",
    "\n",
    "def get_VEF(df2,sexo,fumador):\n",
    "    df = df2[df2['Edad'] <= 14][['Sexo','Fumador','VEF','Edad']]\n",
    "    df1 = df[df['Edad'] > 10][['Sexo','Fumador','VEF','Edad']]\n",
    "\n",
    "    fumadores = df1[df1['Fumador']==fumador][['Sexo','Fumador','VEF']]   \n",
    "    fumadores_sexo=fumadores[fumadores['Sexo']==sexo][['Sexo',\"Fumador\", \"VEF\"]] \n",
    "    \n",
    "    #lista = pd.Series.tolist(fumadores_sexo['VEF'])\n",
    "    \n",
    "    return (fumadores_sexo)"
   ]
  },
  {
   "cell_type": "markdown",
   "metadata": {
    "collapsed": false
   },
   "source": [
    " fumador = 1   no fumador == 0    chico == 1    chica == 0 "
   ]
  },
  {
   "cell_type": "markdown",
   "metadata": {},
   "source": [
    "### Contraste de hipotesis medias independientes"
   ]
  },
  {
   "cell_type": "markdown",
   "metadata": {},
   "source": [
    "Este problema nos plantea comparar los niveles medios de 'VEF' entre los fumadores y no fumadores chicos y chicas de entre 14 y 10 años. Para ello, utilizaremos el test de contraste para dos poblaciones diferentes."
   ]
  },
  {
   "cell_type": "markdown",
   "metadata": {},
   "source": [
    "#### chicas fumadoras vs chicas no fumadoras "
   ]
  },
  {
   "cell_type": "markdown",
   "metadata": {},
   "source": [
    "- H_0: media fumadores = media no fumadores\n",
    "- H_1: media fumadores != media no fumadores\n"
   ]
  },
  {
   "cell_type": "code",
   "execution_count": 130,
   "metadata": {
    "collapsed": true
   },
   "outputs": [],
   "source": [
    "def contrast_medias_ind(fumadores, no_fumadores,alpha):\n",
    "    n_1 = len(fumadores)\n",
    "    n_2 = len(no_fumadores)\n",
    "    s1= ss.sem(fumadores['VEF']*np.sqrt(n_1))\n",
    "    s2= ss.sem(no_fumadores['VEF']*np.sqrt(n_2))\n",
    "    \n",
    "    s = np.sqrt(((n_1-1)*s_1 + (n_2-1)*s_2)/n_1+n_2-2)\n",
    "    \n",
    "    x1_barra = fumadores['VEF'].mean()\n",
    "    x2_barra = no_fumadores['VEF'].mean()\n",
    "\n",
    "    t = (x1_barra-x2_barra)/(s*np.sqrt(1/n_1+1/n_2))\n",
    "\n",
    "    alpha=0.05\n",
    "    t_0= ss.t.ppf(1-alpha/2,n_1+n_2-2)\n",
    "\n",
    "    if t<t_0 or t>-t_0:\n",
    "        print('Rechazamos H_0')\n",
    "    else:\n",
    "        print('Aceptamos H_0')"
   ]
  },
  {
   "cell_type": "code",
   "execution_count": 131,
   "metadata": {
    "collapsed": false
   },
   "outputs": [
    {
     "name": "stdout",
     "output_type": "stream",
     "text": [
      "Rechazamos H_0\n"
     ]
    }
   ],
   "source": [
    "contrast_medias_ind(vef_chicas_fumadoras,vef_chicas_nofumadoras,0.05)"
   ]
  },
  {
   "cell_type": "markdown",
   "metadata": {},
   "source": [
    "#### chicos fumadores vs chicos no fumadores "
   ]
  },
  {
   "cell_type": "markdown",
   "metadata": {},
   "source": [
    "- H_0: media fumadores = media no fumadores\n",
    "- H_1: media fumadores != media no fumadores"
   ]
  },
  {
   "cell_type": "code",
   "execution_count": 132,
   "metadata": {
    "collapsed": false
   },
   "outputs": [
    {
     "name": "stdout",
     "output_type": "stream",
     "text": [
      "Rechazamos H_0\n"
     ]
    }
   ],
   "source": [
    "contrast_medias_ind(vef_chicos_fumadores,vef_chicos_nofumadores,0.05)"
   ]
  }
 ],
 "metadata": {
  "kernelspec": {
   "display_name": "Python 3",
   "language": "python",
   "name": "python3"
  },
  "language_info": {
   "codemirror_mode": {
    "name": "ipython",
    "version": 3
   },
   "file_extension": ".py",
   "mimetype": "text/x-python",
   "name": "python",
   "nbconvert_exporter": "python",
   "pygments_lexer": "ipython3",
   "version": "3.6.0"
  }
 },
 "nbformat": 4,
 "nbformat_minor": 2
}
