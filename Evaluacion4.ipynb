{
 "cells": [
  {
   "cell_type": "markdown",
   "metadata": {},
   "source": [
    "# EJERCICIO 4"
   ]
  },
  {
   "cell_type": "markdown",
   "metadata": {},
   "source": [
    "Para los datos del problema 1, comparar los niveles medios de VEF entre fumadores y no fumadores de chicos entre 10 y 14 años y entre chicas de 10 y 14 años."
   ]
  },
  {
   "cell_type": "code",
   "execution_count": 52,
   "metadata": {},
   "outputs": [],
   "source": [
    "import numpy as np\n",
    "import pandas as pd\n",
    "import scipy.stats as ss\n",
    "import matplotlib.pyplot as plt"
   ]
  },
  {
   "cell_type": "code",
   "execution_count": 53,
   "metadata": {},
   "outputs": [],
   "source": [
    "df = pd.read_excel('VEF.xls')\n"
   ]
  },
  {
   "cell_type": "code",
   "execution_count": 54,
   "metadata": {},
   "outputs": [],
   "source": [
    "df2 = (df[['Edad','VEF', 'Sexo', 'Fumador']])"
   ]
  },
  {
   "cell_type": "code",
   "execution_count": 55,
   "metadata": {},
   "outputs": [],
   "source": [
    "# fumador == 1   no fumador == 0    chico == 1    chica == 0 \n",
    "\n",
    "def get_VEF(df2,sexo,fumador):\n",
    "    df = df2[df2['Edad'] <= 14][['Sexo','Fumador','VEF','Edad']]\n",
    "    df1 = df[df['Edad'] > 10][['Sexo','Fumador','VEF','Edad']]\n",
    "\n",
    "    fumadores = df1[df1['Fumador']==fumador][['Sexo','Fumador','VEF']]   \n",
    "    fumadores_sexo=fumadores[fumadores['Sexo']==sexo][['Sexo',\"Fumador\", \"VEF\"]] \n",
    "    \n",
    "    #lista = pd.Series.tolist(fumadores_sexo['VEF'])\n",
    "    \n",
    "    return (fumadores_sexo)"
   ]
  },
  {
   "cell_type": "markdown",
   "metadata": {},
   "source": [
    "- fumador = 1   \n",
    "- no fumador = 0    \n",
    "- chico = 1    \n",
    "- chica = 0 "
   ]
  },
  {
   "cell_type": "code",
   "execution_count": 56,
   "metadata": {},
   "outputs": [],
   "source": [
    "chicos_f = get_VEF(df,1,1)\n",
    "chicas_f = get_VEF(df,0,1)\n",
    "chicos_nf = get_VEF(df,1,0)\n",
    "chicas_nf = get_VEF(df,0,0)"
   ]
  },
  {
   "cell_type": "markdown",
   "metadata": {},
   "source": [
    "### Contraste de hipotesis medias independientes"
   ]
  },
  {
   "cell_type": "markdown",
   "metadata": {},
   "source": [
    "Este problema nos plantea comparar los niveles medios de 'VEF' entre los fumadores y no fumadores chicos y chicas de entre 14 y 10 años. Para ello, utilizaremos el test de contraste para dos poblaciones diferentes."
   ]
  },
  {
   "cell_type": "markdown",
   "metadata": {},
   "source": [
    "#### chicas fumadoras vs chicas no fumadoras "
   ]
  },
  {
   "cell_type": "markdown",
   "metadata": {},
   "source": [
    "- H_0: media fumadores = media no fumadores\n",
    "- H_1: media fumadores < media no fumadores\n"
   ]
  },
  {
   "cell_type": "code",
   "execution_count": 74,
   "metadata": {},
   "outputs": [],
   "source": [
    "def contraste_medias(fumadores, no_fumadores,alpha):\n",
    "    n_1 = len(fumadores)\n",
    "    n_2 = len(no_fumadores)\n",
    "    s_1= ss.sem(fumadores['VEF']*np.sqrt(n_1))\n",
    "    s_2= ss.sem(no_fumadores['VEF']*np.sqrt(n_2))\n",
    "    \n",
    "    s = np.sqrt(((n_1-1)*s_1 + (n_2-1)*s_2)/n_1+n_2-2)\n",
    "    \n",
    "    x1_barra = fumadores['VEF'].mean()\n",
    "    x2_barra = no_fumadores['VEF'].mean()\n",
    "\n",
    "    t = (x1_barra-x2_barra)/(s*np.sqrt(1/n_1+1/n_2))\n",
    "\n",
    "    t_0= ss.t.ppf(1-alpha/2,n_1+n_2-2)\n",
    "\n",
    "    if t<t_0 or t>-t_0:\n",
    "        print('Rechazamos H_0')\n",
    "    else:\n",
    "        print('Aceptamos H_0')"
   ]
  },
  {
   "cell_type": "code",
   "execution_count": 75,
   "metadata": {},
   "outputs": [
    {
     "name": "stdout",
     "output_type": "stream",
     "text": [
      "Rechazamos H_0\n"
     ]
    }
   ],
   "source": [
    "contraste_medias(chicas_f,chicas_nf,0.05)"
   ]
  },
  {
   "cell_type": "markdown",
   "metadata": {},
   "source": [
    "#### chicos fumadores vs chicos no fumadores "
   ]
  },
  {
   "cell_type": "markdown",
   "metadata": {},
   "source": [
    "- H_0: media fumadores = media no fumadores\n",
    "- H_1: media fumadores != media no fumadores"
   ]
  },
  {
   "cell_type": "code",
   "execution_count": 77,
   "metadata": {},
   "outputs": [
    {
     "name": "stdout",
     "output_type": "stream",
     "text": [
      "Rechazamos H_0\n"
     ]
    }
   ],
   "source": [
    "contraste_medias(chicos_f,chicos_nf,0.05)"
   ]
  },
  {
   "cell_type": "markdown",
   "metadata": {},
   "source": [
    "Hemos supuesto que las varianzas de las muestras son iguales, sin embargo, debemos realizar un test para ver si este es el caso.\n",
    "\n",
    "H_0: $\\sigma_1$ = $\\sigma_2$\n",
    "\n",
    "H_1: $\\sigma_1$ $\\neq$ $\\sigma_2$"
   ]
  },
  {
   "cell_type": "code",
   "execution_count": 82,
   "metadata": {},
   "outputs": [
    {
     "name": "stdout",
     "output_type": "stream",
     "text": [
      "Aceptamos H_0\n",
      "Aceptamos H_0\n"
     ]
    }
   ],
   "source": [
    "def contraste_varianzas(fumadores, no_fumadores, alpha):\n",
    "    n_1 = len(fumadores)\n",
    "    n_2 = len(no_fumadores)\n",
    "    s_1= ss.sem(fumadores['VEF']*np.sqrt(n_1))\n",
    "    s_2= ss.sem(no_fumadores['VEF']*np.sqrt(n_2))\n",
    "    #calculamos estadistico\n",
    "    F = (s_1**2)/(s_2**2)\n",
    "\n",
    "    if F > ss.f.ppf(n_1-1, n_2-1, 1-alpha/2) or F < ss.f.ppf(n_1-1, n_2-1, alpha/2):\n",
    "        return('Rechazamos H_0')\n",
    "    else:\n",
    "        return('Aceptamos H_0')\n",
    "      \n",
    "print(contraste_varianzas(chicas_f, chicas_nf, 0.05))\n",
    "\n",
    "print(contraste_varianzas(chicos_f, chicos_nf, 0.05))"
   ]
  }
 ],
 "metadata": {
  "kernelspec": {
   "display_name": "Python 3",
   "language": "python",
   "name": "python3"
  },
  "language_info": {
   "codemirror_mode": {
    "name": "ipython",
    "version": 3
   },
   "file_extension": ".py",
   "mimetype": "text/x-python",
   "name": "python",
   "nbconvert_exporter": "python",
   "pygments_lexer": "ipython3",
   "version": "3.6.8"
  }
 },
 "nbformat": 4,
 "nbformat_minor": 2
}
