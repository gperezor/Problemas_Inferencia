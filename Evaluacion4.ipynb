{
 "cells": [
  {
   "cell_type": "code",
   "execution_count": 14,
   "metadata": {
    "collapsed": false
   },
   "outputs": [],
   "source": [
    "import numpy as np\n",
    "import pandas as pd\n",
    "import scipy.stats as ss\n",
    "import matplotlib.pyplot as plt"
   ]
  },
  {
   "cell_type": "code",
   "execution_count": 15,
   "metadata": {
    "collapsed": false
   },
   "outputs": [
    {
     "name": "stdout",
     "output_type": "stream",
     "text": [
      "        Id  Edad    VEF  Altura(pulgadas)  Sexo  Fumador\n",
      "0      301     9  1.708              57.0     0        0\n",
      "1      451     8  1.724              67.5     0        0\n",
      "2      501     7  1.720              54.5     0        0\n",
      "3      642     9  1.558              53.0     1        0\n",
      "4      901     9  1.895              57.0     1        0\n",
      "5     1701     8  2.336              61.0     0        0\n",
      "6     1752     6  1.919              58.0     0        0\n",
      "7     1753     6  1.415              56.0     0        0\n",
      "8     1901     8  1.987              58.5     0        0\n",
      "9     1951     9  1.942              60.0     0        0\n",
      "10    1952     6  1.602              53.0     0        0\n",
      "11    2001     8  1.735              54.0     1        0\n",
      "12    2101     8  2.193              58.5     0        0\n",
      "13    2401     8  2.118              60.5     1        0\n",
      "14    3102     8  2.258              58.0     1        0\n",
      "15    3142     7  1.932              53.0     1        0\n",
      "16    3541     5  1.472              50.0     1        0\n",
      "17    3551     6  1.878              53.0     0        0\n",
      "18    4201     9  2.352              59.0     1        0\n",
      "19    4301     9  2.604              61.5     1        0\n",
      "20    4351     5  1.400              49.0     0        0\n",
      "21    5151     5  1.256              52.5     0        0\n",
      "22    5152     4  0.839              48.0     0        0\n",
      "23    5201     7  2.578              62.5     1        0\n",
      "24    5601     9  2.988              65.0     0        0\n",
      "25    5642     3  1.404              51.5     1        0\n",
      "26    5702     9  2.348              60.0     1        0\n",
      "27    6042     5  1.755              52.0     1        0\n",
      "28    6101     8  2.980              60.0     0        0\n",
      "29    6801     9  2.100              60.0     0        0\n",
      "..     ...   ...    ...               ...   ...      ...\n",
      "624  30041    15  3.985              71.0     1        0\n",
      "625  30441    18  4.220              68.0     1        0\n",
      "626  30442    17  4.724              70.5     1        0\n",
      "627  33741    15  3.731              67.0     1        0\n",
      "628  34241    17  3.406              69.0     1        1\n",
      "629  37251    17  3.500              62.0     0        0\n",
      "630  37252    16  3.674              67.5     0        0\n",
      "631  37441    17  5.633              73.0     1        0\n",
      "632  37451    15  3.122              64.0     0        1\n",
      "633  39051    15  3.330              68.5     0        1\n",
      "634  40351    16  2.608              62.0     0        1\n",
      "635  44241    16  3.645              73.5     1        0\n",
      "636  47241    15  3.799              66.5     1        1\n",
      "637  48141    18  4.086              67.0     1        1\n",
      "638  48152    15  2.887              63.0     0        0\n",
      "639  48441    16  4.070              69.5     1        1\n",
      "640  52841    17  3.960              70.0     1        0\n",
      "641  52842    16  4.299              66.0     1        0\n",
      "642  55951    16  2.981              66.0     0        0\n",
      "643  57052    15  2.264              63.0     0        1\n",
      "644  59944    18  4.404              70.5     1        1\n",
      "645  61951    15  2.278              60.0     0        1\n",
      "646  63241    16  4.504              72.0     1        0\n",
      "647  71141    17  5.638              70.0     1        0\n",
      "648  71142    16  4.872              72.0     1        1\n",
      "649  73041    16  4.270              67.0     1        1\n",
      "650  73042    15  3.727              68.0     1        1\n",
      "651  73751    18  2.853              60.0     0        0\n",
      "652  75852    16  2.795              63.0     0        1\n",
      "653  77151    15  3.211              66.5     0        0\n",
      "\n",
      "[654 rows x 6 columns]\n"
     ]
    }
   ],
   "source": [
    "df = pd.read_excel('VEF.xls')\n",
    "print(df)"
   ]
  },
  {
   "cell_type": "code",
   "execution_count": 16,
   "metadata": {
    "collapsed": true
   },
   "outputs": [],
   "source": [
    "df2 = (df[['Edad','VEF', 'Sexo', 'Fumador']])\n",
    "\n",
    "#lista del fev de personas con sexo 0, fumador 0 y edad en el rango\n",
    "gender= (df2['Sexo'])\n",
    "smoker= (df2['Fumador'])\n",
    "fev= (df2['VEF'])\n",
    "age= (df2['Edad'])\n",
    "lista = []\n",
    "for i in range(len(df2)):\n",
    "    g = gender[i]\n",
    "    s = smoker[i]\n",
    "    f = fev[i]\n",
    "    a = age[i]\n",
    "    if g == int(0) and s == int(0):\n",
    "        if a>=10 and a<=14:\n",
    "            lista.append(f)\n",
    "#print(lista)\n",
    "\n",
    "        "
   ]
  },
  {
   "cell_type": "code",
   "execution_count": 17,
   "metadata": {
    "collapsed": false
   },
   "outputs": [
    {
     "name": "stdout",
     "output_type": "stream",
     "text": [
      "2.83722807018\n"
     ]
    }
   ],
   "source": [
    "media_lista = np.mean(lista)\n",
    "print(media_lista)"
   ]
  },
  {
   "cell_type": "code",
   "execution_count": 18,
   "metadata": {
    "collapsed": false
   },
   "outputs": [
    {
     "name": "stdout",
     "output_type": "stream",
     "text": [
      "[1.694, 3.9569999999999999, 4.7889999999999997, 4.7560000000000002, 4.3090000000000002, 3.343, 3.7509999999999999, 2.3039999999999998, 3.4980000000000002, 2.2759999999999998, 4.6369999999999996, 3.339, 4.0449999999999999, 4.7629999999999999]\n",
      "[2.8839999999999999, 2.3279999999999998, 3.3809999999999998, 3.4700000000000002, 1.8109999999999999, 2.524, 3.7410000000000001, 4.3360000000000003, 4.8419999999999996, 4.5499999999999998, 2.5609999999999999, 2.4809999999999999, 3.2029999999999998, 3.5489999999999999, 3.222, 3.1110000000000002, 2.2919999999999998, 2.246, 1.9370000000000001, 2.6459999999999999, 2.9569999999999999, 4.0069999999999997, 3.2509999999999999, 4.3049999999999997, 3.9060000000000001, 3.5830000000000002, 3.4359999999999999, 3.0579999999999998, 3.0070000000000001, 3.4889999999999999, 4.6829999999999998, 2.3519999999999999, 3.1080000000000001, 3.9940000000000002, 4.3929999999999998, 2.5920000000000001, 3.1930000000000001, 3.5150000000000001, 2.7200000000000002, 2.4630000000000001, 3.1110000000000002, 2.0939999999999999, 3.9769999999999999, 3.3540000000000001, 3.887, 3.5870000000000002, 3.8450000000000002, 2.9710000000000001, 2.4169999999999998, 4.2729999999999997, 2.976, 4.0650000000000004, 3.5960000000000001, 2.6080000000000001, 3.7949999999999999, 2.5449999999999999, 2.9929999999999999, 2.855, 2.988, 2.4980000000000002, 2.887, 3.4249999999999998, 2.6960000000000002, 4.593, 4.1109999999999998, 1.9159999999999999, 1.8580000000000001, 3.3500000000000001, 2.9009999999999998, 2.2410000000000001, 4.2249999999999996, 5.2240000000000002, 4.0730000000000004, 4.0800000000000001, 4.4109999999999996, 3.7909999999999999, 3.089, 2.4649999999999999, 3.2000000000000002, 2.9129999999999998, 4.8769999999999998, 3.2789999999999999, 2.581, 1.873, 2.758, 2.2010000000000001, 1.8580000000000001, 1.665, 4.0730000000000004, 4.4480000000000004, 3.984, 3.6800000000000002, 3.6920000000000002, 4.5910000000000002, 2.2160000000000002, 3.2469999999999999, 4.3239999999999998, 3.206, 3.585, 4.7199999999999998, 5.0830000000000002, 2.3639999999999999, 2.3410000000000002, 3.2309999999999999, 3.0779999999999998, 3.3690000000000002, 3.5289999999999999, 3.1269999999999998, 3.3199999999999998, 2.1230000000000002, 3.7799999999999998, 3.847, 3.9239999999999999, 2.1320000000000001, 2.7519999999999998, 3.456, 3.3290000000000002, 4.2709999999999999, 3.5299999999999998, 2.9279999999999999, 2.3319999999999999, 3.1099999999999999, 2.8940000000000001, 4.8310000000000004, 2.8119999999999998, 4.2320000000000002, 2.77, 3.0899999999999999, 2.5310000000000001, 2.8220000000000001, 2.9350000000000001, 2.387, 2.4990000000000001, 4.1299999999999999, 3.2799999999999998, 2.6589999999999998, 4.2030000000000003, 3.806, 2.391, 2.1000000000000001, 2.7850000000000001]\n"
     ]
    }
   ],
   "source": [
    "def get_VEF(df2, sexo, fumador):\n",
    "    gender= (df2['Sexo'])\n",
    "    smoker= (df2['Fumador'])\n",
    "    fev= (df2['VEF'])\n",
    "    age= (df2['Edad'])\n",
    "    lista = []\n",
    "    for i in range(len(df2)):\n",
    "        g = gender[i]\n",
    "        s = smoker[i]\n",
    "        f = fev[i]\n",
    "        a = age[i]\n",
    "        if g == int(sexo) and s == int(fumador):\n",
    "            if a>=10 and a<=14:\n",
    "                lista.append(f)\n",
    "    return (lista)\n",
    "\n",
    "vef_chicos_fumadores= (get_VEF(df2, 1, 1))\n",
    "vef_chicos_nofumadores= (get_VEF(df2, 1, 0))\n",
    "vef_chicas_fumadoras= (get_VEF(df2, 0, 1))\n",
    "vef_chicas_nofumadoras= (get_VEF(df2, 0, 0))\n",
    "\n",
    "print(vef_chicos_fumadores)\n",
    "print(vef_chicos_nofumadores)"
   ]
  },
  {
   "cell_type": "code",
   "execution_count": 19,
   "metadata": {
    "collapsed": false
   },
   "outputs": [
    {
     "name": "stdout",
     "output_type": "stream",
     "text": [
      "3.67578571429\n"
     ]
    },
    {
     "data": {
      "image/png": "[encoded data removed]",
      "text/plain": [
       "<Figure size 432x288 with 1 Axes>"
      ]
     },
     "metadata": {},
     "output_type": "display_data"
    }
   ],
   "source": [
    "mean_chicos_fumadores= np.mean(vef_chicos_fumadores)\n",
    "print (mean_chicos_fumadores)\n",
    "\n",
    "plt.hist(vef_chicos_fumadores)\n",
    "plt.show()"
   ]
  },
  {
   "cell_type": "code",
   "execution_count": 20,
   "metadata": {
    "collapsed": false
   },
   "outputs": [
    {
     "name": "stdout",
     "output_type": "stream",
     "text": [
      "3.24809929078\n"
     ]
    },
    {
     "data": {
      "image/png": "[encoded data removed]",
      "text/plain": [
       "<Figure size 432x288 with 1 Axes>"
      ]
     },
     "metadata": {},
     "output_type": "display_data"
    }
   ],
   "source": [
    "mean_chicos_nofumadores= np.mean(vef_chicos_nofumadores)\n",
    "print (mean_chicos_nofumadores)\n",
    "\n",
    "plt.hist(vef_chicos_nofumadores)\n",
    "plt.show()"
   ]
  },
  {
   "cell_type": "code",
   "execution_count": 21,
   "metadata": {
    "collapsed": false
   },
   "outputs": [
    {
     "name": "stdout",
     "output_type": "stream",
     "text": [
      "3.02322222222\n"
     ]
    },
    {
     "data": {
      "image/png": "[encoded data removed]",
      "text/plain": [
       "<Figure size 432x288 with 1 Axes>"
      ]
     },
     "metadata": {},
     "output_type": "display_data"
    }
   ],
   "source": [
    "mean_chicas_fumadoras= np.mean(vef_chicas_fumadoras)\n",
    "print(mean_chicas_fumadoras)\n",
    "\n",
    "plt.hist(vef_chicas_fumadoras)\n",
    "plt.show()"
   ]
  },
  {
   "cell_type": "code",
   "execution_count": 22,
   "metadata": {
    "collapsed": false
   },
   "outputs": [
    {
     "name": "stdout",
     "output_type": "stream",
     "text": [
      "2.83722807018\n"
     ]
    },
    {
     "data": {
      "image/png": "[encoded data removed]",
      "text/plain": [
       "<Figure size 432x288 with 1 Axes>"
      ]
     },
     "metadata": {},
     "output_type": "display_data"
    }
   ],
   "source": [
    "mean_chicas_nofumadoras= np.mean(vef_chicas_nofumadoras)\n",
    "print(mean_chicas_nofumadoras)\n",
    "\n",
    "\n",
    "plt.hist(vef_chicas_nofumadoras)\n",
    "plt.show()"
   ]
  },
  {
   "cell_type": "raw",
   "metadata": {},
   "source": [
    "Contraste de hipotesis medias independientes\n",
    "\n",
    "Chicas\n",
    " H_0: media fumadores = media no fumadores\n",
    " H_1: media fumadores != media no fumadores\n"
   ]
  },
  {
   "cell_type": "code",
   "execution_count": 23,
   "metadata": {
    "collapsed": true
   },
   "outputs": [],
   "source": [
    "vef_chicas_fumadoras= (get_VEF(df2, 0, 1)) #1 vef_chicas_fumadoras\n",
    "vef_chicas_nofumadoras= (get_VEF(df2, 0, 0)) #2\n",
    "\n",
    "n_1 = len(vef_chicas_fumadoras)\n",
    "n_2 = len(vef_chicas_nofumadoras)\n",
    "\n",
    "s_1 = ss.sem(vef_chicas_fumadoras)*np.sqrt(n_1)\n",
    "s_2 = ss.sem(vef_chicas_nofumadoras)*np.sqrt(n_2)\n"
   ]
  },
  {
   "cell_type": "code",
   "execution_count": 24,
   "metadata": {
    "collapsed": false
   },
   "outputs": [
    {
     "name": "stdout",
     "output_type": "stream",
     "text": [
      "114\n"
     ]
    }
   ],
   "source": [
    "print(n_2)"
   ]
  },
  {
   "cell_type": "code",
   "execution_count": 25,
   "metadata": {
    "collapsed": false
   },
   "outputs": [],
   "source": [
    "s = np.sqrt(((n_1-1)*s_1 + (n_2-1)*s_2)/n_1+n_2-2)"
   ]
  },
  {
   "cell_type": "code",
   "execution_count": 26,
   "metadata": {
    "collapsed": false
   },
   "outputs": [],
   "source": [
    "x1_barra = np.mean(vef_chicas_fumadoras)\n",
    "x2_barra = np.mean(vef_chicas_nofumadoras)\n",
    "\n",
    "t = (x1_barra - x2_barra)/(s*np.sqrt(1/n_1+1/n_2))"
   ]
  },
  {
   "cell_type": "code",
   "execution_count": 27,
   "metadata": {
    "collapsed": false
   },
   "outputs": [
    {
     "name": "stdout",
     "output_type": "stream",
     "text": [
      "0.0813229324201\n"
     ]
    }
   ],
   "source": [
    "print(t)"
   ]
  },
  {
   "cell_type": "code",
   "execution_count": 28,
   "metadata": {
    "collapsed": false
   },
   "outputs": [
    {
     "name": "stdout",
     "output_type": "stream",
     "text": [
      "Aceptamos H_0\n"
     ]
    }
   ],
   "source": [
    "alpha = 0.05\n",
    "if t > ss.t.ppf(1-alpha/2, n_1+n_2 - 2) or t < - ss.t.ppf(1-alpha/2, n_1+n_2 -2):\n",
    "    print(\"Rechazamos H_0\")\n",
    "else:\n",
    "    print(\"Aceptamos H_0\")"
   ]
  },
  {
   "cell_type": "code",
   "execution_count": null,
   "metadata": {
    "collapsed": true
   },
   "outputs": [],
   "source": []
  },
  {
   "cell_type": "code",
   "execution_count": null,
   "metadata": {
    "collapsed": true
   },
   "outputs": [],
   "source": []
  },
  {
   "cell_type": "code",
   "execution_count": null,
   "metadata": {
    "collapsed": true
   },
   "outputs": [],
   "source": []
  }
 ],
 "metadata": {
  "kernelspec": {
   "display_name": "Python 3",
   "language": "python",
   "name": "python3"
  },
  "language_info": {
   "codemirror_mode": {
    "name": "ipython",
    "version": 3
   },
   "file_extension": ".py",
   "mimetype": "text/x-python",
   "name": "python",
   "nbconvert_exporter": "python",
   "pygments_lexer": "ipython3",
   "version": "3.6.0"
  }
 },
 "nbformat": 4,
 "nbformat_minor": 2
}
