{
 "cells": [
  {
   "cell_type": "code",
   "execution_count": 7,
   "metadata": {},
   "outputs": [],
   "source": [
    "import statsmodels\n",
    "import numpy as np\n",
    "import statsmodels.api as sm\n",
    "import pylab\n",
    "import scipy.stats as ss\n",
    "import matplotlib.pyplot as plt\n",
    "import pandas as pd"
   ]
  },
  {
   "cell_type": "code",
   "execution_count": 9,
   "metadata": {},
   "outputs": [
    {
     "name": "stdout",
     "output_type": "stream",
     "text": [
      "        Id  Edad    VEF  Altura(pulgadas)  Sexo  Fumador\n",
      "0      301     9  1.708              57.0     0        0\n",
      "1      451     8  1.724              67.5     0        0\n",
      "2      501     7  1.720              54.5     0        0\n",
      "3      642     9  1.558              53.0     1        0\n",
      "4      901     9  1.895              57.0     1        0\n",
      "5     1701     8  2.336              61.0     0        0\n",
      "6     1752     6  1.919              58.0     0        0\n",
      "7     1753     6  1.415              56.0     0        0\n",
      "8     1901     8  1.987              58.5     0        0\n",
      "9     1951     9  1.942              60.0     0        0\n",
      "10    1952     6  1.602              53.0     0        0\n",
      "11    2001     8  1.735              54.0     1        0\n",
      "12    2101     8  2.193              58.5     0        0\n",
      "13    2401     8  2.118              60.5     1        0\n",
      "14    3102     8  2.258              58.0     1        0\n",
      "15    3142     7  1.932              53.0     1        0\n",
      "16    3541     5  1.472              50.0     1        0\n",
      "17    3551     6  1.878              53.0     0        0\n",
      "18    4201     9  2.352              59.0     1        0\n",
      "19    4301     9  2.604              61.5     1        0\n",
      "20    4351     5  1.400              49.0     0        0\n",
      "21    5151     5  1.256              52.5     0        0\n",
      "22    5152     4  0.839              48.0     0        0\n",
      "23    5201     7  2.578              62.5     1        0\n",
      "24    5601     9  2.988              65.0     0        0\n",
      "25    5642     3  1.404              51.5     1        0\n",
      "26    5702     9  2.348              60.0     1        0\n",
      "27    6042     5  1.755              52.0     1        0\n",
      "28    6101     8  2.980              60.0     0        0\n",
      "29    6801     9  2.100              60.0     0        0\n",
      "..     ...   ...    ...               ...   ...      ...\n",
      "624  30041    15  3.985              71.0     1        0\n",
      "625  30441    18  4.220              68.0     1        0\n",
      "626  30442    17  4.724              70.5     1        0\n",
      "627  33741    15  3.731              67.0     1        0\n",
      "628  34241    17  3.406              69.0     1        1\n",
      "629  37251    17  3.500              62.0     0        0\n",
      "630  37252    16  3.674              67.5     0        0\n",
      "631  37441    17  5.633              73.0     1        0\n",
      "632  37451    15  3.122              64.0     0        1\n",
      "633  39051    15  3.330              68.5     0        1\n",
      "634  40351    16  2.608              62.0     0        1\n",
      "635  44241    16  3.645              73.5     1        0\n",
      "636  47241    15  3.799              66.5     1        1\n",
      "637  48141    18  4.086              67.0     1        1\n",
      "638  48152    15  2.887              63.0     0        0\n",
      "639  48441    16  4.070              69.5     1        1\n",
      "640  52841    17  3.960              70.0     1        0\n",
      "641  52842    16  4.299              66.0     1        0\n",
      "642  55951    16  2.981              66.0     0        0\n",
      "643  57052    15  2.264              63.0     0        1\n",
      "644  59944    18  4.404              70.5     1        1\n",
      "645  61951    15  2.278              60.0     0        1\n",
      "646  63241    16  4.504              72.0     1        0\n",
      "647  71141    17  5.638              70.0     1        0\n",
      "648  71142    16  4.872              72.0     1        1\n",
      "649  73041    16  4.270              67.0     1        1\n",
      "650  73042    15  3.727              68.0     1        1\n",
      "651  73751    18  2.853              60.0     0        0\n",
      "652  75852    16  2.795              63.0     0        1\n",
      "653  77151    15  3.211              66.5     0        0\n",
      "\n",
      "[654 rows x 6 columns]\n"
     ]
    }
   ],
   "source": [
    "df = pd.read_excel('VEF.xls')\n",
    "print(df)"
   ]
  },
  {
   "cell_type": "code",
   "execution_count": 51,
   "metadata": {},
   "outputs": [],
   "source": [
    "df2 = (df[['Edad','VEF', 'Sexo', 'Fumador']])\n",
    "\n",
    "#lista del fev de personas con sexo 0, fumador 0 y edad en el rango\n",
    "gender= (df2['Sexo'])\n",
    "smoker= (df2['Fumador'])\n",
    "fev= (df2['VEF'])\n",
    "age= (df2['Edad'])\n",
    "lista = []\n",
    "for i in range(len(df2)):\n",
    "    g = gender[i]\n",
    "    s = smoker[i]\n",
    "    f = fev[i]\n",
    "    a = age[i]\n",
    "    if g == int(0) and s == int(0):\n",
    "        if a>=10 and a<=14:\n",
    "            lista.append(f)\n",
    "#print(lista)\n",
    "\n",
    "        "
   ]
  },
  {
   "cell_type": "code",
   "execution_count": 11,
   "metadata": {},
   "outputs": [
    {
     "name": "stdout",
     "output_type": "stream",
     "text": [
      "2.8372280701754384\n"
     ]
    }
   ],
   "source": [
    "media_lista = np.mean(lista)\n",
    "print(media_lista)"
   ]
  },
  {
   "cell_type": "code",
   "execution_count": 49,
   "metadata": {},
   "outputs": [
    {
     "name": "stdout",
     "output_type": "stream",
     "text": [
      "[1.694, 3.957, 4.789, 4.756, 4.309, 3.343, 3.751, 2.304, 3.498, 2.276, 4.637, 3.339, 4.045, 4.763]\n",
      "[2.884, 2.328, 3.381, 3.47, 1.811, 2.524, 3.741, 4.336, 4.842, 4.55, 2.561, 2.481, 3.203, 3.549, 3.222, 3.111, 2.292, 2.246, 1.937, 2.646, 2.957, 4.007, 3.251, 4.305, 3.906, 3.583, 3.436, 3.058, 3.007, 3.489, 4.683, 2.352, 3.108, 3.994, 4.393, 2.592, 3.193, 3.515, 2.72, 2.463, 3.111, 2.094, 3.977, 3.354, 3.887, 3.587, 3.845, 2.971, 2.417, 4.273, 2.976, 4.065, 3.596, 2.608, 3.795, 2.545, 2.993, 2.855, 2.988, 2.498, 2.887, 3.425, 2.696, 4.593, 4.111, 1.916, 1.858, 3.35, 2.901, 2.241, 4.225, 5.224, 4.073, 4.08, 4.411, 3.791, 3.089, 2.465, 3.2, 2.913, 4.877, 3.279, 2.581, 1.873, 2.758, 2.201, 1.858, 1.665, 4.073, 4.448, 3.984, 3.68, 3.692, 4.591, 2.216, 3.247, 4.324, 3.206, 3.585, 4.72, 5.083, 2.364, 2.341, 3.231, 3.078, 3.369, 3.529, 3.127, 3.32, 2.123, 3.78, 3.847, 3.924, 2.132, 2.752, 3.456, 3.329, 4.271, 3.53, 2.928, 2.332, 3.11, 2.894, 4.831, 2.812, 4.232, 2.77, 3.09, 2.531, 2.822, 2.935, 2.387, 2.499, 4.13, 3.28, 2.659, 4.203, 3.806, 2.391, 2.1, 2.785]\n"
     ]
    }
   ],
   "source": [
    "def get_VEF(df2, sexo, fumador):\n",
    "    gender= (df2['Sexo'])\n",
    "    smoker= (df2['Fumador'])\n",
    "    fev= (df2['VEF'])\n",
    "    age= (df2['Edad'])\n",
    "    lista = []\n",
    "    for i in range(len(df2)):\n",
    "        g = gender[i]\n",
    "        s = smoker[i]\n",
    "        f = fev[i]\n",
    "        a = age[i]\n",
    "        if g == int(sexo) and s == int(fumador):\n",
    "            if a>=10 and a<=14:\n",
    "                lista.append(f)\n",
    "    return (lista)\n",
    "\n",
    "vef_chicos_fumadores= (get_VEF(df2, 1, 1))\n",
    "vef_chicos_nofumadores= (get_VEF(df2, 1, 0))\n",
    "vef_chicas_fumadoras= (get_VEF(df2, 0, 1))\n",
    "vef_chicas_nofumadoras= (get_VEF(df2, 0, 0))\n",
    "\n",
    "print(vef_chicos_fumadores)\n",
    "print(vef_chicos_nofumadores)"
   ]
  },
  {
   "cell_type": "code",
   "execution_count": 44,
   "metadata": {},
   "outputs": [
    {
     "name": "stdout",
     "output_type": "stream",
     "text": [
      "3.6757857142857135\n"
     ]
    },
    {
     "data": {
      "image/png": "[encoded data removed]",
      "text/plain": [
       "<Figure size 432x288 with 1 Axes>"
      ]
     },
     "metadata": {
      "needs_background": "light"
     },
     "output_type": "display_data"
    }
   ],
   "source": [
    "mean_chicos_fumadores= np.mean(vef_chicos_fumadores)\n",
    "print (mean_chicos_fumadores)\n",
    "\n",
    "plt.hist(vef_chicos_fumadores)\n",
    "plt.show()"
   ]
  },
  {
   "cell_type": "code",
   "execution_count": 50,
   "metadata": {},
   "outputs": [
    {
     "name": "stdout",
     "output_type": "stream",
     "text": [
      "3.248099290780142\n"
     ]
    },
    {
     "data": {
      "image/png": "[encoded data removed]",
      "text/plain": [
       "<Figure size 432x288 with 1 Axes>"
      ]
     },
     "metadata": {
      "needs_background": "light"
     },
     "output_type": "display_data"
    }
   ],
   "source": [
    "mean_chicos_nofumadores= np.mean(vef_chicos_nofumadores)\n",
    "print (mean_chicos_nofumadores)\n",
    "\n",
    "plt.hist(vef_chicos_nofumadores)\n",
    "plt.show()"
   ]
  },
  {
   "cell_type": "code",
   "execution_count": 46,
   "metadata": {},
   "outputs": [
    {
     "name": "stdout",
     "output_type": "stream",
     "text": [
      "3.0232222222222225\n"
     ]
    },
    {
     "data": {
      "image/png": "[encoded data removed]",
      "text/plain": [
       "<Figure size 432x288 with 1 Axes>"
      ]
     },
     "metadata": {
      "needs_background": "light"
     },
     "output_type": "display_data"
    }
   ],
   "source": [
    "mean_chicas_fumadoras= np.mean(vef_chicas_fumadoras)\n",
    "print(mean_chicas_fumadoras)\n",
    "\n",
    "plt.hist(vef_chicas_fumadoras)\n",
    "plt.show()"
   ]
  },
  {
   "cell_type": "code",
   "execution_count": 47,
   "metadata": {},
   "outputs": [
    {
     "name": "stdout",
     "output_type": "stream",
     "text": [
      "2.8372280701754384\n"
     ]
    },
    {
     "data": {
      "image/png": "[encoded data removed]",
      "text/plain": [
       "<Figure size 432x288 with 1 Axes>"
      ]
     },
     "metadata": {
      "needs_background": "light"
     },
     "output_type": "display_data"
    }
   ],
   "source": [
    "mean_chicas_nofumadoras= np.mean(vef_chicas_nofumadoras)\n",
    "print(mean_chicas_nofumadoras)\n",
    "\n",
    "\n",
    "plt.hist(vef_chicas_nofumadoras)\n",
    "plt.show()"
   ]
  },
  {
   "cell_type": "code",
   "execution_count": null,
   "metadata": {},
   "outputs": [],
   "source": []
  }
 ],
 "metadata": {
  "kernelspec": {
   "display_name": "Python 3",
   "language": "python",
   "name": "python3"
  },
  "language_info": {
   "codemirror_mode": {
    "name": "ipython",
    "version": 3
   },
   "file_extension": ".py",
   "mimetype": "text/x-python",
   "name": "python",
   "nbconvert_exporter": "python",
   "pygments_lexer": "ipython3",
   "version": "3.6.7"
  }
 },
 "nbformat": 4,
 "nbformat_minor": 2
}
