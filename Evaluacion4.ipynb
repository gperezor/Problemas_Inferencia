{
 "cells": [
  {
   "cell_type": "markdown",
   "metadata": {},
   "source": [
    "# EJERCICIO 4"
   ]
  },
  {
   "cell_type": "markdown",
   "metadata": {},
   "source": [
    "Para los datos del problema 1, comparar los niveles medios de VEF entre fumadores y no fumadores de chicos entre 10 y 14 años y entre chicas de 10 y 14 años."
   ]
  },
  {
   "cell_type": "code",
   "execution_count": 61,
   "metadata": {
    "collapsed": false
   },
   "outputs": [],
   "source": [
    "import numpy as np\n",
    "import pandas as pd\n",
    "import scipy.stats as ss\n",
    "import matplotlib.pyplot as plt"
   ]
  },
  {
   "cell_type": "code",
   "execution_count": 62,
   "metadata": {
    "collapsed": false
   },
   "outputs": [],
   "source": [
    "df = pd.read_excel('VEF.xls')\n"
   ]
  },
  {
   "cell_type": "code",
   "execution_count": 63,
   "metadata": {
    "collapsed": false
   },
   "outputs": [],
   "source": [
    "df2 = (df[['Edad','VEF', 'Sexo', 'Fumador']])"
   ]
  },
  {
   "cell_type": "code",
   "execution_count": 84,
   "metadata": {
    "collapsed": false
   },
   "outputs": [],
   "source": [
    "# fumador == 1   no fumador == 0    chico == 1    chica == 0 \n",
    "\n",
    "def get_VEF(df2,sexo,fumador):\n",
    "    df = df2[df2['Edad'] <= 14][['Sexo','Fumador','VEF','Edad']]\n",
    "    df1 = df[df['Edad'] > 10][['Sexo','Fumador','VEF','Edad']]\n",
    "\n",
    "    fumadores = df1[df1['Fumador']==fumador][['Sexo','Fumador','VEF']]   \n",
    "    fumadores_sexo=fumadores[fumadores['Sexo']==sexo][['Sexo',\"Fumador\", \"VEF\"]] \n",
    "    \n",
    "    lista = pd.Series.tolist(fumadores_sexo['VEF'])\n",
    "    \n",
    "    return (lista)"
   ]
  },
  {
   "cell_type": "code",
   "execution_count": 89,
   "metadata": {
    "collapsed": false
   },
   "outputs": [],
   "source": [
    "# fumador == 1   no fumador == 0    chico == 1    chica == 0 \n",
    "vef_chicos_fumadores= (get_VEF(df2, 1, 1))\n",
    "vef_chicos_nofumadores= (get_VEF(df2, 1, 0))\n",
    "vef_chicas_fumadoras= (get_VEF(df2, 0, 1))\n",
    "vef_chicas_nofumadoras= (get_VEF(df2, 0, 0))"
   ]
  },
  {
   "cell_type": "markdown",
   "metadata": {},
   "source": [
    "### Contraste de hipotesis medias independientes"
   ]
  },
  {
   "cell_type": "markdown",
   "metadata": {},
   "source": [
    "Este problema nos plantea comparar los niveles medios de 'VEF' entre los fumadores y no fumadores chicos y chicas de entre 14 y 10 años. Para ello, utilizaremos el test de contraste para dos poblaciones diferentes."
   ]
  },
  {
   "cell_type": "markdown",
   "metadata": {},
   "source": [
    "#### chicas fumadoras vs chicas no fumadoras "
   ]
  },
  {
   "cell_type": "markdown",
   "metadata": {},
   "source": [
    "- H_0: media fumadores = media no fumadores\n",
    "- H_1: media fumadores != media no fumadores\n"
   ]
  },
  {
   "cell_type": "code",
   "execution_count": 70,
   "metadata": {
    "collapsed": true
   },
   "outputs": [],
   "source": [
    "def contrast_medias_ind(fumadores, no_fumadores,alpha):\n",
    "    n_1 = len(fumadores)\n",
    "    n_2 = len(no_fumadores)\n",
    "    s_1 = ss.sem(fumadores)*np.sqrt(n_1)\n",
    "    s_2 = ss.sem(no_fumadores)*np.sqrt(n_2)\n",
    "    \n",
    "    s = np.sqrt(((n_1-1)*s_1 + (n_2-1)*s_2)/n_1+n_2-2)\n",
    "    \n",
    "    x1_barra = np.mean(fumadores)\n",
    "    x2_barra = np.mean(no_fumadores)\n",
    "\n",
    "    t = (x1_barra - x2_barra)/(s*np.sqrt(1/n_1+1/n_2))\n",
    "    \n",
    "    if t > ss.t.ppf(1-alpha/2, n_1+n_2 - 2) or t < - ss.t.ppf(1-alpha/2, n_1+n_2 -2):\n",
    "        print(\"Rechazamos H_0\")\n",
    "    else:\n",
    "        print(\"Aceptamos H_0\")"
   ]
  },
  {
   "cell_type": "code",
   "execution_count": 71,
   "metadata": {
    "collapsed": false
   },
   "outputs": [
    {
     "name": "stdout",
     "output_type": "stream",
     "text": [
      "Aceptamos H_0\n"
     ]
    }
   ],
   "source": [
    "contrast_medias_ind(vef_chicas_fumadoras,vef_chicas_nofumadoras,0.05)"
   ]
  },
  {
   "cell_type": "markdown",
   "metadata": {},
   "source": [
    "#### chicos fumadores vs chicos no fumadores "
   ]
  },
  {
   "cell_type": "markdown",
   "metadata": {},
   "source": [
    "- H_0: media fumadores = media no fumadores\n",
    "- H_1: media fumadores != media no fumadores"
   ]
  },
  {
   "cell_type": "code",
   "execution_count": 72,
   "metadata": {
    "collapsed": false
   },
   "outputs": [
    {
     "name": "stdout",
     "output_type": "stream",
     "text": [
      "Aceptamos H_0\n"
     ]
    }
   ],
   "source": [
    "contrast_medias_ind(vef_chicos_fumadores,vef_chicos_nofumadores,0.05)"
   ]
  },
  {
   "cell_type": "code",
   "execution_count": null,
   "metadata": {
    "collapsed": true
   },
   "outputs": [],
   "source": []
  }
 ],
 "metadata": {
  "kernelspec": {
   "display_name": "Python 3",
   "language": "python",
   "name": "python3"
  },
  "language_info": {
   "codemirror_mode": {
    "name": "ipython",
    "version": 3
   },
   "file_extension": ".py",
   "mimetype": "text/x-python",
   "name": "python",
   "nbconvert_exporter": "python",
   "pygments_lexer": "ipython3",
   "version": "3.6.0"
  }
 },
 "nbformat": 4,
 "nbformat_minor": 2
}
