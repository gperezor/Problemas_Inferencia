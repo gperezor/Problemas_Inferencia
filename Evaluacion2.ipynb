{
 "cells": [
  {
   "cell_type": "markdown",
   "metadata": {},
   "source": [
    "# EJERCICIO 2"
   ]
  },
  {
   "cell_type": "code",
   "execution_count": 1,
   "metadata": {
    "collapsed": true
   },
   "outputs": [],
   "source": [
    "#Ejercicio 2\n",
    "import numpy as np\n",
    "import scipy.stats as ss\n",
    "import random as rnd\n",
    "import matplotlib.pyplot as plt\n",
    "import pandas as pd"
   ]
  },
  {
   "cell_type": "code",
   "execution_count": 75,
   "metadata": {
    "collapsed": false
   },
   "outputs": [
    {
     "name": "stdout",
     "output_type": "stream",
     "text": [
      "7.3e-05\n",
      "0.00013823264146992797\n"
     ]
    }
   ],
   "source": [
    "# apartado a: Contraste de hipotesis\n",
    "n = 1475773 #poblacion\n",
    "N = 100000\n",
    "alpha = 0.05\n",
    "\n",
    "p_0 = 7.3/N\n",
    "p_hat= 204/n #proporcion muestral; \n",
    "\n",
    "print(p_0)\n",
    "print(p_hat)"
   ]
  },
  {
   "cell_type": "raw",
   "metadata": {},
   "source": [
    "Se da la condición de que se puede aproximar la binomial a una normal porque n*p_0*(1-p_0) >= 5"
   ]
  },
  {
   "cell_type": "code",
   "execution_count": 6,
   "metadata": {
    "collapsed": false
   },
   "outputs": [
    {
     "data": {
      "text/plain": [
       "True"
      ]
     },
     "execution_count": 6,
     "metadata": {},
     "output_type": "execute_result"
    }
   ],
   "source": [
    "n*p_0*(1-p_0)>=5"
   ]
  },
  {
   "cell_type": "markdown",
   "metadata": {},
   "source": [
    "### Apartado a)"
   ]
  },
  {
   "cell_type": "raw",
   "metadata": {},
   "source": [
    "Realizar un contraste para comprobar si el número de casos detectados fue mayor que el esperado"
   ]
  },
  {
   "cell_type": "markdown",
   "metadata": {},
   "source": [
    "#### a.1) ¿Cuáles son las hipótesis nula H_0 y alternativa H_1?"
   ]
  },
  {
   "cell_type": "raw",
   "metadata": {},
   "source": [
    "- H_0: p = p_0\n",
    "- H_1: p != p_0"
   ]
  },
  {
   "cell_type": "markdown",
   "metadata": {},
   "source": [
    "#### a.2) ¿Es un test de una alternativa, o de doble alternativa?"
   ]
  },
  {
   "cell_type": "raw",
   "metadata": {},
   "source": [
    "- Es un test de doble alternativa"
   ]
  },
  {
   "cell_type": "markdown",
   "metadata": {},
   "source": [
    "#### a.3) ¿Qué test estadísticos podemos usar? ¿Cuál es más conveniente?"
   ]
  },
  {
   "cell_type": "raw",
   "metadata": {},
   "source": [
    "- Utilizamos el test de contraste para la prevalencia. Para ello utilizamos el estadístico de la proporción muestral(p_hat) para poder aproximar la binomial a una normal y esto ocurre si la siguiente expresión se cumple: "
   ]
  },
  {
   "cell_type": "code",
   "execution_count": 11,
   "metadata": {
    "collapsed": false
   },
   "outputs": [
    {
     "data": {
      "text/plain": [
       "True"
      ]
     },
     "execution_count": 11,
     "metadata": {},
     "output_type": "execute_result"
    }
   ],
   "source": [
    "n*p_0*(1-p_0)>=5"
   ]
  },
  {
   "cell_type": "raw",
   "metadata": {},
   "source": [
    "Para poder realizar el contraste de hipótesis tenemos que calcular el estadístico z antes:"
   ]
  },
  {
   "cell_type": "code",
   "execution_count": 8,
   "metadata": {
    "collapsed": false
   },
   "outputs": [
    {
     "name": "stdout",
     "output_type": "stream",
     "text": [
      "9.27532567062\n"
     ]
    }
   ],
   "source": [
    "#calculo del estadistico z \n",
    "z = (p_hat-p_0)/(np.sqrt(p_0*(1-p_0)/n))\n",
    "print(z)"
   ]
  },
  {
   "cell_type": "markdown",
   "metadata": {},
   "source": [
    "#### a.4) Aplicar un contraste para α = 0.05. ¿Qué podemos decir con el resultado del test?"
   ]
  },
  {
   "cell_type": "raw",
   "metadata": {},
   "source": [
    "- En el apartado anterior ya calculamos el estadístico z: "
   ]
  },
  {
   "cell_type": "code",
   "execution_count": 14,
   "metadata": {
    "collapsed": false
   },
   "outputs": [
    {
     "name": "stdout",
     "output_type": "stream",
     "text": [
      "Rechazamos H_0 y aceptamos H_1\n"
     ]
    }
   ],
   "source": [
    "if z < ss.norm.ppf(alpha/2,n-1) or ss.norm.ppf(1-alpha/2,n-1):\n",
    "    print(\"Rechazamos H_0\")\n",
    "else:\n",
    "    print(\"Aceptamos H_0\")\n",
    "    "
   ]
  },
  {
   "cell_type": "raw",
   "metadata": {},
   "source": [
    "Por lo tanto aceptamos H_1, es decir, que la p != p_0; esto quiere decir que el número de casos detectados fue distinto del esperado.  "
   ]
  },
  {
   "cell_type": "markdown",
   "metadata": {},
   "source": [
    "#### a.5) ¿Cuál es el p valor?"
   ]
  },
  {
   "cell_type": "code",
   "execution_count": 73,
   "metadata": {
    "collapsed": false
   },
   "outputs": [
    {
     "name": "stdout",
     "output_type": "stream",
     "text": [
      "0.0\n"
     ]
    }
   ],
   "source": [
    "X = ss.norm\n",
    "if p_hat <= p_0:\n",
    "    p_valor = 2*X.cdf(z)\n",
    "else:\n",
    "    p_valor = 2*(1-X.cdf(z))\n",
    "\n",
    "print(p_valor)\n"
   ]
  },
  {
   "cell_type": "raw",
   "metadata": {
    "collapsed": false
   },
   "source": [
    "Si p es un valor menor que alpha, es decir, menor que el nivel de significación eso quiere decir que es un resultado estadísticamente representativo (lo cual nos permite rechazar la H_0 como hemos demostrado en el apartado a.4) "
   ]
  },
  {
   "cell_type": "code",
   "execution_count": 76,
   "metadata": {
    "collapsed": false
   },
   "outputs": [
    {
     "data": {
      "text/plain": [
       "True"
      ]
     },
     "execution_count": 76,
     "metadata": {},
     "output_type": "execute_result"
    }
   ],
   "source": [
    "p_valor < alpha"
   ]
  },
  {
   "cell_type": "markdown",
   "metadata": {},
   "source": [
    "### Apartado b) "
   ]
  },
  {
   "cell_type": "raw",
   "metadata": {},
   "source": [
    "Obtener un intervalo de confianza del 95 % para el ratio de incidencia. ¿Está el ratio de incidencia esperado en ese intervalo? (Expresar el intervalo de confianza de la forma (p1, p2) donde p1 y p2 estén expresados en casos por 100.000 observaciones). Comentar el resultado."
   ]
  },
  {
   "cell_type": "code",
   "execution_count": 77,
   "metadata": {
    "collapsed": false
   },
   "outputs": [],
   "source": [
    "# apartado b. Intervalo de confianza\n",
    "def confidence_interval_binomial(n,p_hat,confidence,z):\n",
    "    alpha = 1-confidence\n",
    "    p1 = p_hat - ss.norm.ppf(1-alpha/2,n-1)*np.sqrt(p_hat*(1-p_hat)*n) #extremo inferior del intervalo\n",
    "    p2 = p_hat + ss.norm.ppf(1-alpha/2,n-1)*np.sqrt(p_hat*(1-p_hat)*n) #extremo superior del intervalo\n",
    "    if z >= p1 and z <= p2:\n",
    "        print(p1,p2)\n",
    "        print(\"Está dentro del intervalo de confianza\")\n",
    "    else:\n",
    "        print(p1,p2)\n",
    "        print(\"No está dentro del intervalo de confianza\")"
   ]
  },
  {
   "cell_type": "code",
   "execution_count": 78,
   "metadata": {
    "collapsed": false
   },
   "outputs": [
    {
     "name": "stdout",
     "output_type": "stream",
     "text": [
      "-21076811.3207 21076811.321\n",
      "Está dentro del intervalo de confianza\n"
     ]
    }
   ],
   "source": [
    "confidence_interval_binomial(n,p_hat,0.95,z)"
   ]
  },
  {
   "cell_type": "raw",
   "metadata": {},
   "source": [
    "Apartado b:\n",
    "\n",
    "Esto significa que el parámetro de la prevalencia calculado \"z\" está dentro del rango de posibles valores estimados para dicho parámetro. Por lo que en este caso tendríamos un 95% de certeza de que el valor \"z\" caería dentro del intervalo.  "
   ]
  }
 ],
 "metadata": {
  "kernelspec": {
   "display_name": "Python 3",
   "language": "python",
   "name": "python3"
  },
  "language_info": {
   "codemirror_mode": {
    "name": "ipython",
    "version": 3
   },
   "file_extension": ".py",
   "mimetype": "text/x-python",
   "name": "python",
   "nbconvert_exporter": "python",
   "pygments_lexer": "ipython3",
   "version": "3.6.0"
  }
 },
 "nbformat": 4,
 "nbformat_minor": 2
}
