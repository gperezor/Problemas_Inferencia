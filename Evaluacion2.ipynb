{
 "cells": [
  {
   "cell_type": "code",
   "execution_count": 1,
   "metadata": {
    "collapsed": true
   },
   "outputs": [],
   "source": [
    "#Ejercicio 2\n",
    "import numpy as np\n",
    "import scipy.stats as ss\n",
    "import random as rnd\n",
    "import matplotlib.pyplot as plt\n",
    "import pandas as pd"
   ]
  },
  {
   "cell_type": "code",
   "execution_count": 13,
   "metadata": {
    "collapsed": false
   },
   "outputs": [
    {
     "name": "stdout",
     "output_type": "stream",
     "text": [
      "0.00013823264146992797\n",
      "7.3e-05\n"
     ]
    }
   ],
   "source": [
    "# apartado a: Contraste de hipotesis\n",
    "N = 1475773 #poblacion\n",
    "n = 100000\n",
    "alpha = 0.05\n",
    "\n",
    "p_0 = 204/N \n",
    "p_hat= 7.3/n #proporcion muestral\n",
    "print(p_0)\n",
    "print(p_hat)"
   ]
  },
  {
   "cell_type": "code",
   "execution_count": 10,
   "metadata": {
    "collapsed": false
   },
   "outputs": [
    {
     "name": "stdout",
     "output_type": "stream",
     "text": [
      "-1.75464668495\n"
     ]
    }
   ],
   "source": [
    "#calcular el estadistico z \n",
    "z = (p_hat-p_0)/(np.sqrt(p_0*(1-p_0)/n))\n",
    "#print(z)"
   ]
  },
  {
   "cell_type": "code",
   "execution_count": 12,
   "metadata": {
    "collapsed": false
   },
   "outputs": [
    {
     "name": "stdout",
     "output_type": "stream",
     "text": [
      "Rechazamos H_0\n"
     ]
    }
   ],
   "source": [
    "\n",
    "if z < ss.norm.ppf(alpha/2,n-1) or ss.norm.ppf(1-alpha/2,n-1):\n",
    "    print(\"Rechazamos H_0\")\n",
    "else:\n",
    "    print(\"aceptamos H_0\")\n",
    "    "
   ]
  },
  {
   "cell_type": "code",
   "execution_count": 16,
   "metadata": {
    "collapsed": false
   },
   "outputs": [
    {
     "name": "stdout",
     "output_type": "stream",
     "text": [
      "-1344914634.09\n"
     ]
    }
   ],
   "source": [
    "#para calcular el p valor necesitamos calcular primero la potencia\n",
    "# como p_0 > p_hat entonces el p valor = 2*potencia\n",
    "\n",
    "z_corr = (abs(p_0-p_hat)-1/2*n)/(np.sqrt(p_hat*(1-p_hat)/n))\n",
    "print(potencia)"
   ]
  },
  {
   "cell_type": "code",
   "execution_count": 21,
   "metadata": {
    "collapsed": false
   },
   "outputs": [],
   "source": [
    "# apartado b. Intervalo de confianza\n",
    "def confidence_interval_binomial(n,p_hat,confidence,z):\n",
    "    alpha = 1-confidence\n",
    "    p1 = p_hat - ss.norm.ppf(1-alpha/2,n-1)*np.sqrt(p_hat*(1-p_hat)*n) #extremo inferior del intervalo\n",
    "    p2 = p_hat + ss.norm.ppf(1-alpha/2,n-1)*np.sqrt(p_hat*(1-p_hat)*n) #extremo superior del intervalo\n",
    "    if z >= h1 and z <= h2:\n",
    "        print(p1,p2)\n",
    "        print(\"Está dentro del intervalo de confianza\")\n",
    "    else:\n",
    "        print(p1,p2)\n",
    "        print(\"No está dentro del intervalo de confianza\")"
   ]
  },
  {
   "cell_type": "code",
   "execution_count": 18,
   "metadata": {
    "collapsed": false
   },
   "outputs": [
    {
     "name": "stdout",
     "output_type": "stream",
     "text": [
      "-270177.853297 270177.853443\n",
      "Está dentro del intervalo de confianza\n"
     ]
    }
   ],
   "source": [
    "confidence_interval_binomial(n,p_hat,0.95,z)"
   ]
  },
  {
   "cell_type": "raw",
   "metadata": {},
   "source": [
    "Apartado b:\n",
    "\n",
    "Esto significa que el parámetro de la prevalencia calculado \"z\" está dentro del rango de posibles valores estimados para dicho parámetro. Por lo que en este caso tendríamos un 95% de certeza de que el valor \"z\" caería dentro del intervalo.  "
   ]
  },
  {
   "cell_type": "raw",
   "metadata": {},
   "source": [
    "apartado a.1:\n",
    "- H_0: la prevalencia sea igual a p_0\n",
    "- H_1: la prevalencia sea distinta a p_0\n",
    "\n",
    "apartado a.2:\n",
    "- Es de doble alternativa\n",
    "\n",
    "apartado a.3:\n",
    "- El test utilizado es el test para la prevalencia p (One-sample binomial test)\n",
    "\n",
    "apartado a.4\n",
    "- Para alpha = 0.05 rechazamos la H_0, es decir, la prevalencia es diferente a la p_0\n",
    "\n",
    "apartado a.5:\n",
    "- p valor = "
   ]
  }
 ],
 "metadata": {
  "kernelspec": {
   "display_name": "Python 3",
   "language": "python",
   "name": "python3"
  },
  "language_info": {
   "codemirror_mode": {
    "name": "ipython",
    "version": 3
   },
   "file_extension": ".py",
   "mimetype": "text/x-python",
   "name": "python",
   "nbconvert_exporter": "python",
   "pygments_lexer": "ipython3",
   "version": "3.6.0"
  }
 },
 "nbformat": 4,
 "nbformat_minor": 2
}
