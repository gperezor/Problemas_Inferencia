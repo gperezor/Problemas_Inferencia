{
 "cells": [
  {
   "cell_type": "code",
   "execution_count": 11,
   "metadata": {
    "collapsed": true
   },
   "outputs": [],
   "source": [
    "import numpy as np\n",
    "import scipy.stats as ss\n",
    "import random as rnd\n",
    "import matplotlib.pyplot as plt\n",
    "import pandas as pd"
   ]
  },
  {
   "cell_type": "code",
   "execution_count": null,
   "metadata": {
    "collapsed": true
   },
   "outputs": [],
   "source": [
    "#Ejercicio 3 apartado c"
   ]
  },
  {
   "cell_type": "code",
   "execution_count": 4,
   "metadata": {
    "collapsed": true
   },
   "outputs": [],
   "source": [
    "before = [102.4,103.2,101.9,103,101.2,100.7,102.5,103.1,102.8,102.3,101.9,101.4]\n",
    "after = [99.6,100.1,100.2,101.1,99.8,100.2,101,100.1,100.7,101.1,101.1,100.2]\n",
    "n = len(before)\n"
   ]
  },
  {
   "cell_type": "code",
   "execution_count": 33,
   "metadata": {
    "collapsed": false
   },
   "outputs": [
    {
     "name": "stdout",
     "output_type": "stream",
     "text": [
      "[2.8000000000000114, 3.1000000000000085, 1.7000000000000028, 1.9000000000000057, 1.4000000000000057, 0.5, 1.5, 3.0, 2.0999999999999943, 1.2000000000000028, 0.8000000000000114, 1.2000000000000028]\n"
     ]
    }
   ],
   "source": [
    "d = []\n",
    "for i in range(len(before)):\n",
    "    d.append(before[i]-after[i])\n",
    "print(d)"
   ]
  },
  {
   "cell_type": "code",
   "execution_count": 12,
   "metadata": {
    "collapsed": false
   },
   "outputs": [],
   "source": [
    "d_barra = np.mean(d)"
   ]
  },
  {
   "cell_type": "code",
   "execution_count": null,
   "metadata": {
    "collapsed": true
   },
   "outputs": [],
   "source": [
    "# cuasivarianza = (a-b)/n-1\n",
    "a = np.sum(d)**2\n",
    "b = 0\n",
    "for i in range(len(d)):\n",
    "    b+=d[i]**2\n",
    "\n",
    "b = b/n \n",
    "\n",
    "s = (a-b)/(n-1) #es la cuasivarianza al cuadrado"
   ]
  },
  {
   "cell_type": "code",
   "execution_count": null,
   "metadata": {
    "collapsed": false
   },
   "outputs": [],
   "source": []
  },
  {
   "cell_type": "code",
   "execution_count": 39,
   "metadata": {
    "collapsed": false
   },
   "outputs": [],
   "source": [
    "#calculamos estadistico t"
   ]
  },
  {
   "cell_type": "code",
   "execution_count": 46,
   "metadata": {
    "collapsed": false
   },
   "outputs": [],
   "source": [
    "t = d_barra/(np.sqrt(s)/np.sqrt(n))"
   ]
  },
  {
   "cell_type": "code",
   "execution_count": 49,
   "metadata": {
    "collapsed": false
   },
   "outputs": [],
   "source": [
    "alpha = 0.05"
   ]
  },
  {
   "cell_type": "code",
   "execution_count": 52,
   "metadata": {
    "collapsed": false
   },
   "outputs": [
    {
     "name": "stdout",
     "output_type": "stream",
     "text": [
      "aceptamos H_0\n"
     ]
    }
   ],
   "source": [
    "if t > ss.t.ppf(1-alpha/2,n-1) or t < -ss.t.ppf(1-alpha/2,n-1):\n",
    "    print(\"rechazamos H_0\")\n",
    "else:\n",
    "    print(\"aceptamos H_0\")"
   ]
  },
  {
   "cell_type": "code",
   "execution_count": null,
   "metadata": {
    "collapsed": true
   },
   "outputs": [],
   "source": [
    "La aspirina "
   ]
  },
  {
   "cell_type": "code",
   "execution_count": null,
   "metadata": {
    "collapsed": true
   },
   "outputs": [],
   "source": []
  }
 ],
 "metadata": {
  "kernelspec": {
   "display_name": "Python 3",
   "language": "python",
   "name": "python3"
  },
  "language_info": {
   "codemirror_mode": {
    "name": "ipython",
    "version": 3
   },
   "file_extension": ".py",
   "mimetype": "text/x-python",
   "name": "python",
   "nbconvert_exporter": "python",
   "pygments_lexer": "ipython3",
   "version": "3.6.0"
  }
 },
 "nbformat": 4,
 "nbformat_minor": 2
}
