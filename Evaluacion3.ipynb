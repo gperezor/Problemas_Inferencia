{
 "cells": [
  {
   "cell_type": "markdown",
   "metadata": {},
   "source": [
    "# EJERCICIO 3"
   ]
  },
  {
   "cell_type": "markdown",
   "metadata": {},
   "source": [
    "Se plantea un estudio para analizar la efectividad de la aspirina reduciendo la temperatura corporal. Para ello, se observa a 12 pacientes con gripe. Se toman dos observaciones: antes y despuÉs de una hora de haberse administrado un aspirina. "
   ]
  },
  {
   "cell_type": "code",
   "execution_count": 3,
   "metadata": {},
   "outputs": [],
   "source": [
    "import numpy as np\n",
    "import scipy.stats as ss\n",
    "import random as rnd\n",
    "import matplotlib.pyplot as plt\n",
    "import pandas as pd"
   ]
  },
  {
   "cell_type": "markdown",
   "metadata": {},
   "source": [
    "Suponiendo que los datos se distribuyen como una normal, y que queremos comprobar si la aspirina reduce la temperatura:"
   ]
  },
  {
   "cell_type": "markdown",
   "metadata": {},
   "source": [
    "### apartado a)"
   ]
  },
  {
   "cell_type": "markdown",
   "metadata": {},
   "source": [
    "Definir la hipótesis nula y la alternativa:"
   ]
  },
  {
   "cell_type": "markdown",
   "metadata": {},
   "source": [
    "- $H_0$: la aspirina no afecta. Por ello $\\mu_{d}$ =0, que es la diferencia entre la media de la población 1 y la media de la población 2.\n",
    "    \n",
    "- $H_1$: la aspirina si afecta, por ello la temperatura corporal ha disminuido. Entonces $\\mu_{d}$ $\\neq$ 0."
   ]
  },
  {
   "cell_type": "markdown",
   "metadata": {},
   "source": [
    "### apartado b) "
   ]
  },
  {
   "cell_type": "markdown",
   "metadata": {},
   "source": [
    "Las dos muestras: ¿Son independientes o no? ¿Qué test debemos utilizar?"
   ]
  },
  {
   "cell_type": "markdown",
   "metadata": {},
   "source": [
    "Las dos muestras no son independientes, ya que los sujetos son los mismos. Además, cada dato de la primera muestra se relaciona con un únio dato de la segunda muestra. Las dos poblaciones siguen la misma distribución. Por ello, debemos utilizar el test t para muestras pareadas.\n",
    "   "
   ]
  },
  {
   "cell_type": "markdown",
   "metadata": {},
   "source": [
    "### apartado c) "
   ]
  },
  {
   "cell_type": "markdown",
   "metadata": {},
   "source": [
    "Realizar dicho test estadístico para $\\alpha$ = 0.05 y comentar el resultado:"
   ]
  },
  {
   "cell_type": "markdown",
   "metadata": {},
   "source": [
    "Para poder utilizar los datos de la tabla, los hemos metido en dos listas: $\\textit{'Before'}$ y $\\textit{'After'}$. Luego hemos calculado las diferencias 'd', creado un bucle para indexar los elementos de las listas y restando un elemento de una lista con el correspondiente de la otra. Tenemos que suponer que las diferencias siguen la distribución $N$($\\mu_{d}$, $\\sigma_{d}$).\n",
    "    \n",
    "Calculamos la media de las diferencias $\\textit{d}$ que será $\\textit{d-barra}$ y la cuasivarianza de las diferencias (una muestra)."
   ]
  },
  {
   "cell_type": "code",
   "execution_count": 4,
   "metadata": {},
   "outputs": [],
   "source": [
    "before = [102.4,103.2,101.9,103,101.2,100.7,102.5,103.1,102.8,102.3,101.9,101.4]\n",
    "after = [99.6,100.1,100.2,101.1,99.8,100.2,101,100.1,100.7,101.1,101.1,100.2]\n",
    "n = len(before)\n"
   ]
  },
  {
   "cell_type": "code",
   "execution_count": 5,
   "metadata": {},
   "outputs": [
    {
     "name": "stdout",
     "output_type": "stream",
     "text": [
      "[2.8000000000000114, 3.1000000000000085, 1.7000000000000028, 1.9000000000000057, 1.4000000000000057, 0.5, 1.5, 3.0, 2.0999999999999943, 1.2000000000000028, 0.8000000000000114, 1.2000000000000028]\n"
     ]
    }
   ],
   "source": [
    "d = []\n",
    "for i in range(len(before)):\n",
    "    d.append(before[i]-after[i])\n",
    "print(d)"
   ]
  },
  {
   "cell_type": "code",
   "execution_count": 6,
   "metadata": {},
   "outputs": [],
   "source": [
    "d_barra = np.mean(d)"
   ]
  },
  {
   "cell_type": "code",
   "execution_count": 7,
   "metadata": {},
   "outputs": [],
   "source": [
    "# cuasivarianza = (a-b)/n-1\n",
    "s_d = (sum(d)**2-(1/n)*sum(d)**2)/n-1 # es la cuasivarianza al cuadrado"
   ]
  },
  {
   "cell_type": "markdown",
   "metadata": {},
   "source": [
    "Usamos estos valores para calcular nuestro estadístico t."
   ]
  },
  {
   "cell_type": "code",
   "execution_count": 8,
   "metadata": {},
   "outputs": [],
   "source": [
    "t = d_barra/(np.sqrt(s_d)/np.sqrt(n))"
   ]
  },
  {
   "cell_type": "code",
   "execution_count": 9,
   "metadata": {},
   "outputs": [],
   "source": [
    "alpha = 0.05"
   ]
  },
  {
   "cell_type": "code",
   "execution_count": 10,
   "metadata": {},
   "outputs": [
    {
     "name": "stdout",
     "output_type": "stream",
     "text": [
      "rechazamos H_0\n"
     ]
    }
   ],
   "source": [
    "if t > ss.t.ppf(alpha/2,n-1) or t < -ss.t.ppf(alpha/2,n-1):\n",
    "    print(\"rechazamos H_0\")\n",
    "else:\n",
    "    print(\"aceptamos H_0\")"
   ]
  },
  {
   "cell_type": "markdown",
   "metadata": {},
   "source": [
    "Según el resultado obtenido, debemos rechazar la hipótesis nula. Lo que demuestra que la aspirina tiene efecto sobre los individuos del estudio. Este resultado es el más intuitivo ya desde un primer momento suponíamos que el medicamento de la aspirina si que baja la temperatura corporal."
   ]
  },
  {
   "cell_type": "code",
   "execution_count": null,
   "metadata": {
    "collapsed": true
   },
   "outputs": [],
   "source": []
  }
 ],
 "metadata": {
  "kernelspec": {
   "display_name": "Python 3",
   "language": "python",
   "name": "python3"
  },
  "language_info": {
   "codemirror_mode": {
    "name": "ipython",
    "version": 3
   },
   "file_extension": ".py",
   "mimetype": "text/x-python",
   "name": "python",
   "nbconvert_exporter": "python",
   "pygments_lexer": "ipython3",
   "version": "3.6.8"
  }
 },
 "nbformat": 4,
 "nbformat_minor": 2
}
