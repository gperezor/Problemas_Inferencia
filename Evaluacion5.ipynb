{
 "cells": [
  {
   "cell_type": "code",
   "execution_count": 3,
   "metadata": {
    "collapsed": true
   },
   "outputs": [],
   "source": [
    "import numpy as np\n",
    "import pandas as pd\n",
    "import matplotlib.pyplot as plt\n",
    "import scipy.stats as ss"
   ]
  },
  {
   "cell_type": "markdown",
   "metadata": {},
   "source": [
    "##  EJERCICIO 5: apartado A "
   ]
  },
  {
   "cell_type": "markdown",
   "metadata": {},
   "source": [
    "#### Test KS"
   ]
  },
  {
   "cell_type": "code",
   "execution_count": 4,
   "metadata": {
    "collapsed": true
   },
   "outputs": [],
   "source": [
    "mu_0 = 500\n",
    "sigma = 100\n",
    "alpha = 0.05"
   ]
  },
  {
   "cell_type": "raw",
   "metadata": {},
   "source": [
    "H_0: es que mu es igual que mu_0\n",
    "H_1: es que mu < mu_0"
   ]
  },
  {
   "cell_type": "code",
   "execution_count": 24,
   "metadata": {
    "collapsed": false
   },
   "outputs": [
    {
     "data": {
      "image/png": "[encoded data removed]",
      "text/plain": [
       "<Figure size 432x288 with 1 Axes>"
      ]
     },
     "metadata": {},
     "output_type": "display_data"
    }
   ],
   "source": [
    "df = pd.read_excel('IQTest.xlsx')\n",
    "IQ_test = df['IQ_Test_2018'].sort_values(axis = 0,ascending = True)\n",
    "data_test = pd.Series.tolist(IQ_test)\n",
    "\n",
    "\n",
    "n = len(data_test)\n",
    "\n",
    "X = ss.norm(loc = mu_0, scale = sigma)\n",
    "\n",
    "x = np.linspace(min(data_test),max(data_test),10000) #cogemos 10000 numeros entre el valor minimo y el valor maximo de los datos\n",
    "\n",
    "plt.hist(x, density=True, histtype='step',cumulative=True) #pintamos la escalonada\n",
    "plt.plot(x,X.cdf(x))\n",
    "plt.show()"
   ]
  },
  {
   "cell_type": "raw",
   "metadata": {},
   "source": [
    "Ahora calculamos el valor de D para poder realizar el test KS"
   ]
  },
  {
   "cell_type": "code",
   "execution_count": 17,
   "metadata": {
    "collapsed": true
   },
   "outputs": [],
   "source": [
    "def KS(L,loc, scale): #Definir una función que devuelva el valor D para el test de KS\n",
    "    n=len(L)\n",
    "    vec1=[]\n",
    "    vec2 = []\n",
    "    X = ss.norm(loc = loc, scale = scale)\n",
    "    for j in range(n):\n",
    "        vec1 += [((j+1)/n)-X.cdf(L[j])]\n",
    "        vec2 += [X.cdf(L[j])-(j/n)]\n",
    "    Dmas = max(vec1)\n",
    "    Dmen = max(vec2)\n",
    "    tot = max(Dmas,Dmen)\n",
    "    return(tot)"
   ]
  },
  {
   "cell_type": "code",
   "execution_count": 26,
   "metadata": {
    "collapsed": false
   },
   "outputs": [
    {
     "data": {
      "text/plain": [
       "0.2926468578727992"
      ]
     },
     "execution_count": 26,
     "metadata": {},
     "output_type": "execute_result"
    }
   ],
   "source": [
    "alpha = 0.05\n",
    "D = (KS(data_test,500,100))\n",
    "D_alpha = 1.36/np.sqrt(len(IQ_test)) #miramos el valor en las tablas\n",
    "D"
   ]
  },
  {
   "cell_type": "code",
   "execution_count": 14,
   "metadata": {
    "collapsed": false
   },
   "outputs": [
    {
     "data": {
      "text/plain": [
       "KstestResult(statistic=0.2926468578727992, pvalue=1.1401630487222169e-15)"
      ]
     },
     "execution_count": 14,
     "metadata": {},
     "output_type": "execute_result"
    }
   ],
   "source": [
    "ss.kstest(IQ_test,'norm',(500,100)) #da lo mismo de las dos manera, BIEN"
   ]
  },
  {
   "cell_type": "code",
   "execution_count": 27,
   "metadata": {
    "collapsed": false
   },
   "outputs": [
    {
     "name": "stdout",
     "output_type": "stream",
     "text": [
      "Rechazamos hipotesis nula\n"
     ]
    }
   ],
   "source": [
    "if D > D_alpha:\n",
    "    print('Rechazamos hipotesis nula')\n",
    "else: \n",
    "    print('Aceptamos hipotesis nula')"
   ]
  },
  {
   "cell_type": "raw",
   "metadata": {},
   "source": [
    "El valor crítico es menor que el valor calculado, así que rechazamos la hipótesis nula."
   ]
  },
  {
   "cell_type": "markdown",
   "metadata": {},
   "source": [
    "#### Test de Lilliefors"
   ]
  },
  {
   "cell_type": "raw",
   "metadata": {},
   "source": [
    "Ahora tenemos que hacer lo mismo que antes, solo que estimando la media y la varianza de la normal"
   ]
  },
  {
   "cell_type": "code",
   "execution_count": 29,
   "metadata": {
    "collapsed": false
   },
   "outputs": [
    {
     "data": {
      "text/plain": [
       "0.038301610202139014"
      ]
     },
     "execution_count": 29,
     "metadata": {},
     "output_type": "execute_result"
    }
   ],
   "source": [
    "D_1 = KS(data_test,np.mean(data_test),ss.sem(data_test)*np.sqrt(len(data_test)))\n",
    "D_1"
   ]
  },
  {
   "cell_type": "markdown",
   "metadata": {},
   "source": [
    "## APARTADO B"
   ]
  },
  {
   "cell_type": "raw",
   "metadata": {
    "collapsed": false
   },
   "source": [
    "H_0: La media es igual que la del año anterior\n",
    "H_1: La media es menor que la del año anterior"
   ]
  },
  {
   "cell_type": "code",
   "execution_count": 32,
   "metadata": {
    "collapsed": false
   },
   "outputs": [
    {
     "name": "stdout",
     "output_type": "stream",
     "text": [
      "Rechazamos H1\n"
     ]
    }
   ],
   "source": [
    "media = np.mean(data_test)\n",
    "\n",
    "def contrast_hip_norm1(muestra,alpha, mu_0): #Una función que devuelva por pantalla si se rechaza H_0 o H_1#\n",
    "    n = len(muestra)\n",
    "    m = np.mean(muestra)\n",
    "    s_error = ss.sem(muestra) #calculamos el denominador\n",
    "    t = (m-mu_0)/s_error #integramos todo para calcular la t de arriba\n",
    "    if t<ss.t.ppf(alpha,n-1): #calculamos los percentiles para ver donde esta el punto critico.\n",
    "        print('Rechazamos H0')\n",
    "    else:\n",
    "        print('Rechazamos H1')\n",
    "        \n",
    "contrast_hip_norm1(data_test,0.05,media)"
   ]
  },
  {
   "cell_type": "markdown",
   "metadata": {},
   "source": [
    "## APARTADO C"
   ]
  },
  {
   "cell_type": "raw",
   "metadata": {},
   "source": [
    "Calculamos la potencia"
   ]
  },
  {
   "cell_type": "code",
   "execution_count": 33,
   "metadata": {
    "collapsed": true
   },
   "outputs": [],
   "source": [
    "mu_1 = 450"
   ]
  },
  {
   "cell_type": "code",
   "execution_count": 58,
   "metadata": {
    "collapsed": false
   },
   "outputs": [
    {
     "name": "stdout",
     "output_type": "stream",
     "text": [
      "0.999999913722\n"
     ]
    }
   ],
   "source": [
    "def potencia(mu_0,mu_1,sigma,muestra,alpha):\n",
    "    n=len(muestra)\n",
    "    z_alf = ss.t.ppf(alpha,n-1)\n",
    "    r = z_alf + (mu_0-mu_1)*np.sqrt(n)/sigma\n",
    "    return ss.t.cdf(r,n-1)\n",
    "          \n",
    "print(potencia(mu_0,mu_1,100,data_test,0.05))"
   ]
  },
  {
   "cell_type": "markdown",
   "metadata": {},
   "source": [
    "## APARTADO D "
   ]
  },
  {
   "cell_type": "code",
   "execution_count": 62,
   "metadata": {
    "collapsed": true
   },
   "outputs": [],
   "source": [
    "mu_1 = 450\n",
    "potencia = 0.8\n",
    "alpha = 0.05\n",
    "n = len(data_test)\n",
    "sigma = 100\n",
    "mu_0 = 500\n",
    "mu_1 = 450\n",
    "\n",
    "poblacion = (ss.t.ppf(1-alpha,n-1) + ss.t.ppf(potencia,n-1))**2*sigma**2/(mu_0 - mu_1)**2"
   ]
  },
  {
   "cell_type": "code",
   "execution_count": 63,
   "metadata": {
    "collapsed": false
   },
   "outputs": [
    {
     "name": "stdout",
     "output_type": "stream",
     "text": [
      "25.0\n"
     ]
    }
   ],
   "source": [
    "print(round(poblacion)) #población "
   ]
  },
  {
   "cell_type": "raw",
   "metadata": {},
   "source": [
    "La población tendrá 25 personas"
   ]
  },
  {
   "cell_type": "code",
   "execution_count": null,
   "metadata": {
    "collapsed": false
   },
   "outputs": [],
   "source": []
  },
  {
   "cell_type": "code",
   "execution_count": null,
   "metadata": {
    "collapsed": true
   },
   "outputs": [],
   "source": []
  }
 ],
 "metadata": {
  "kernelspec": {
   "display_name": "Python 3",
   "language": "python",
   "name": "python3"
  },
  "language_info": {
   "codemirror_mode": {
    "name": "ipython",
    "version": 3
   },
   "file_extension": ".py",
   "mimetype": "text/x-python",
   "name": "python",
   "nbconvert_exporter": "python",
   "pygments_lexer": "ipython3",
   "version": "3.6.0"
  }
 },
 "nbformat": 4,
 "nbformat_minor": 2
}
